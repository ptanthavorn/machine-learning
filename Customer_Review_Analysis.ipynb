{
 "cells": [
  {
   "cell_type": "markdown",
   "metadata": {
    "id": "qOGw_sB-2VWd"
   },
   "source": [
    "# Import customer product review data\n",
    "\n",
    "Data source: https://www.kaggle.com/datasets/mehmetisik/amazon-review/data"
   ]
  },
  {
   "cell_type": "code",
   "execution_count": 1,
   "metadata": {
    "id": "HfIlDemr0CgF"
   },
   "outputs": [],
   "source": [
    "import pandas as pd\n",
    "import numpy as np\n",
    "import matplotlib.pyplot as plt\n",
    "import seaborn as sns\n",
    "\n",
    "plt.style.use('ggplot')\n",
    "\n",
    "import nltk"
   ]
  },
  {
   "cell_type": "code",
   "execution_count": 2,
   "metadata": {
    "id": "fHZo_PCb2AhR"
   },
   "outputs": [],
   "source": [
    "df = pd.read_csv('amazon_review.csv')"
   ]
  },
  {
   "cell_type": "code",
   "execution_count": 3,
   "metadata": {
    "colab": {
     "base_uri": "https://localhost:8080/",
     "height": 275
    },
    "id": "P9skYTqb2PMd",
    "outputId": "eba785ef-296b-4efe-ec97-010459054a41"
   },
   "outputs": [
    {
     "data": {
      "text/html": [
       "<div>\n",
       "<style scoped>\n",
       "    .dataframe tbody tr th:only-of-type {\n",
       "        vertical-align: middle;\n",
       "    }\n",
       "\n",
       "    .dataframe tbody tr th {\n",
       "        vertical-align: top;\n",
       "    }\n",
       "\n",
       "    .dataframe thead th {\n",
       "        text-align: right;\n",
       "    }\n",
       "</style>\n",
       "<table border=\"1\" class=\"dataframe\">\n",
       "  <thead>\n",
       "    <tr style=\"text-align: right;\">\n",
       "      <th></th>\n",
       "      <th>reviewerID</th>\n",
       "      <th>asin</th>\n",
       "      <th>reviewerName</th>\n",
       "      <th>helpful</th>\n",
       "      <th>reviewText</th>\n",
       "      <th>overall</th>\n",
       "      <th>summary</th>\n",
       "      <th>unixReviewTime</th>\n",
       "      <th>reviewTime</th>\n",
       "      <th>day_diff</th>\n",
       "      <th>helpful_yes</th>\n",
       "      <th>total_vote</th>\n",
       "    </tr>\n",
       "  </thead>\n",
       "  <tbody>\n",
       "    <tr>\n",
       "      <th>0</th>\n",
       "      <td>A3SBTW3WS4IQSN</td>\n",
       "      <td>B007WTAJTO</td>\n",
       "      <td>NaN</td>\n",
       "      <td>[0, 0]</td>\n",
       "      <td>No issues.</td>\n",
       "      <td>4.0</td>\n",
       "      <td>Four Stars</td>\n",
       "      <td>1406073600</td>\n",
       "      <td>2014-07-23</td>\n",
       "      <td>138</td>\n",
       "      <td>0</td>\n",
       "      <td>0</td>\n",
       "    </tr>\n",
       "    <tr>\n",
       "      <th>1</th>\n",
       "      <td>A18K1ODH1I2MVB</td>\n",
       "      <td>B007WTAJTO</td>\n",
       "      <td>0mie</td>\n",
       "      <td>[0, 0]</td>\n",
       "      <td>Purchased this for my device, it worked as adv...</td>\n",
       "      <td>5.0</td>\n",
       "      <td>MOAR SPACE!!!</td>\n",
       "      <td>1382659200</td>\n",
       "      <td>2013-10-25</td>\n",
       "      <td>409</td>\n",
       "      <td>0</td>\n",
       "      <td>0</td>\n",
       "    </tr>\n",
       "    <tr>\n",
       "      <th>2</th>\n",
       "      <td>A2FII3I2MBMUIA</td>\n",
       "      <td>B007WTAJTO</td>\n",
       "      <td>1K3</td>\n",
       "      <td>[0, 0]</td>\n",
       "      <td>it works as expected. I should have sprung for...</td>\n",
       "      <td>4.0</td>\n",
       "      <td>nothing to really say....</td>\n",
       "      <td>1356220800</td>\n",
       "      <td>2012-12-23</td>\n",
       "      <td>715</td>\n",
       "      <td>0</td>\n",
       "      <td>0</td>\n",
       "    </tr>\n",
       "    <tr>\n",
       "      <th>3</th>\n",
       "      <td>A3H99DFEG68SR</td>\n",
       "      <td>B007WTAJTO</td>\n",
       "      <td>1m2</td>\n",
       "      <td>[0, 0]</td>\n",
       "      <td>This think has worked out great.Had a diff. br...</td>\n",
       "      <td>5.0</td>\n",
       "      <td>Great buy at this price!!!  *** UPDATE</td>\n",
       "      <td>1384992000</td>\n",
       "      <td>2013-11-21</td>\n",
       "      <td>382</td>\n",
       "      <td>0</td>\n",
       "      <td>0</td>\n",
       "    </tr>\n",
       "    <tr>\n",
       "      <th>4</th>\n",
       "      <td>A375ZM4U047O79</td>\n",
       "      <td>B007WTAJTO</td>\n",
       "      <td>2&amp;amp;1/2Men</td>\n",
       "      <td>[0, 0]</td>\n",
       "      <td>Bought it with Retail Packaging, arrived legit...</td>\n",
       "      <td>5.0</td>\n",
       "      <td>best deal around</td>\n",
       "      <td>1373673600</td>\n",
       "      <td>2013-07-13</td>\n",
       "      <td>513</td>\n",
       "      <td>0</td>\n",
       "      <td>0</td>\n",
       "    </tr>\n",
       "  </tbody>\n",
       "</table>\n",
       "</div>"
      ],
      "text/plain": [
       "       reviewerID        asin  reviewerName helpful  \\\n",
       "0  A3SBTW3WS4IQSN  B007WTAJTO           NaN  [0, 0]   \n",
       "1  A18K1ODH1I2MVB  B007WTAJTO          0mie  [0, 0]   \n",
       "2  A2FII3I2MBMUIA  B007WTAJTO           1K3  [0, 0]   \n",
       "3   A3H99DFEG68SR  B007WTAJTO           1m2  [0, 0]   \n",
       "4  A375ZM4U047O79  B007WTAJTO  2&amp;1/2Men  [0, 0]   \n",
       "\n",
       "                                          reviewText  overall  \\\n",
       "0                                         No issues.      4.0   \n",
       "1  Purchased this for my device, it worked as adv...      5.0   \n",
       "2  it works as expected. I should have sprung for...      4.0   \n",
       "3  This think has worked out great.Had a diff. br...      5.0   \n",
       "4  Bought it with Retail Packaging, arrived legit...      5.0   \n",
       "\n",
       "                                  summary  unixReviewTime  reviewTime  \\\n",
       "0                              Four Stars      1406073600  2014-07-23   \n",
       "1                           MOAR SPACE!!!      1382659200  2013-10-25   \n",
       "2               nothing to really say....      1356220800  2012-12-23   \n",
       "3  Great buy at this price!!!  *** UPDATE      1384992000  2013-11-21   \n",
       "4                        best deal around      1373673600  2013-07-13   \n",
       "\n",
       "   day_diff  helpful_yes  total_vote  \n",
       "0       138            0           0  \n",
       "1       409            0           0  \n",
       "2       715            0           0  \n",
       "3       382            0           0  \n",
       "4       513            0           0  "
      ]
     },
     "execution_count": 3,
     "metadata": {},
     "output_type": "execute_result"
    }
   ],
   "source": [
    "df.head()"
   ]
  },
  {
   "cell_type": "code",
   "execution_count": 4,
   "metadata": {
    "colab": {
     "base_uri": "https://localhost:8080/"
    },
    "id": "EsSww18F2IaO",
    "outputId": "2a175433-9fc2-4b10-9bd4-8b08a2f93dde"
   },
   "outputs": [
    {
     "name": "stdout",
     "output_type": "stream",
     "text": [
      "(4915, 12)\n"
     ]
    }
   ],
   "source": [
    "print(df.shape)"
   ]
  },
  {
   "cell_type": "markdown",
   "metadata": {
    "id": "4yYtdv_Q2hXf"
   },
   "source": [
    "# Data exploration\n",
    "\n",
    "- 'overall' column shows the overall rating of the product given by a unique ReviewerID\n",
    "- The rating ranges from 1-5\n",
    "- Most customers rated the product positively, with the majority giving ratings of 5 or 4. While a smaller group gave a rating of 1.\n",
    "\n"
   ]
  },
  {
   "cell_type": "code",
   "execution_count": 5,
   "metadata": {
    "colab": {
     "base_uri": "https://localhost:8080/"
    },
    "id": "T5ulkYyw2kxY",
    "outputId": "0539d43d-d87a-4f59-a4d5-8d9c3ab12d18"
   },
   "outputs": [
    {
     "data": {
      "text/plain": [
       "array([4., 5., 3., 1., 2.])"
      ]
     },
     "execution_count": 5,
     "metadata": {},
     "output_type": "execute_result"
    }
   ],
   "source": [
    "# 'overall' column indicates customer ratings\n",
    "\n",
    "df['overall'].unique()"
   ]
  },
  {
   "cell_type": "code",
   "execution_count": 6,
   "metadata": {
    "colab": {
     "base_uri": "https://localhost:8080/",
     "height": 500
    },
    "id": "yoXrsBv73BEs",
    "outputId": "9e21ca17-d342-4539-9cf7-e1adb341beb6"
   },
   "outputs": [
    {
     "data": {
      "image/png": "[encoded data removed]",
      "text/plain": [
       "<Figure size 1000x500 with 1 Axes>"
      ]
     },
     "metadata": {},
     "output_type": "display_data"
    }
   ],
   "source": [
    "# if use sort_values() then sorted by number of counts\n",
    "\n",
    "ax = df['overall'].value_counts().sort_index().plot(kind = 'bar',\n",
    "                                                             title = 'Count of Reviews by Rating',\n",
    "                                                             figsize = (10,5))\n",
    "ax.set_xlabel('Rating')\n",
    "plt.show()"
   ]
  },
  {
   "cell_type": "markdown",
   "metadata": {
    "id": "X3KiMY4N5rcw"
   },
   "source": [
    "# Solution 1: VADER Sentiment Analysis\n",
    "\n",
    "or Valence Aware Dictionary and sEntiment Reasoner is designed to analyze the sentiment of text data with 4 key features:\n",
    "\n",
    "1. **Lexicon-Based**: uses a pre-built lexicon of words that are mapped to their respective sentiment intensities (positive, neutral or negative).\n",
    "\n",
    "2. **Handles Informal Language**: works well with text containing slang, emoticons, abbreviations, and even capitalization.\n",
    "\n",
    "3. **Context Sensitivity**: takes into account factors like:\n",
    "    - Punctuation: E.g., exclamation marks (!) increase intensity.\n",
    "    - Capitalization: E.g., words in ALL CAPS are given more weight.\n",
    "    - Degree Modifiers: Words like \"very\" or \"extremely\" amplify the sentiment score.\n",
    "    - Negations: Words like \"not\" or \"never\" can reverse the sentiment.\n",
    "\n",
    "4. **Outputs Compound and Polarity Scores**:\n",
    "    - Compound Score: A normalized score between -1 (most negative) and +1 (most positive).\n",
    "    - Positive, Negative, Neutral Scores: Proportions of text categorized as positive, negative, or neutral.\n",
    "\n",
    "sources: https://github.com/cjhutto/vaderSentiment"
   ]
  },
  {
   "cell_type": "code",
   "execution_count": 7,
   "metadata": {
    "colab": {
     "base_uri": "https://localhost:8080/"
    },
    "id": "EfNE2Ont5xUX",
    "outputId": "57916755-ec79-49ea-d8ca-f870ae0a28ba"
   },
   "outputs": [
    {
     "name": "stderr",
     "output_type": "stream",
     "text": [
      "[nltk_data] Downloading package vader_lexicon to\n",
      "[nltk_data]     /Users/ptanthavorn/nltk_data...\n",
      "[nltk_data]   Package vader_lexicon is already up-to-date!\n"
     ]
    }
   ],
   "source": [
    "from nltk.sentiment import SentimentIntensityAnalyzer\n",
    "nltk.download('vader_lexicon')\n",
    "from tqdm.notebook import tqdm\n",
    "\n",
    "sia = SentimentIntensityAnalyzer()"
   ]
  },
  {
   "cell_type": "code",
   "execution_count": 8,
   "metadata": {
    "colab": {
     "base_uri": "https://localhost:8080/"
    },
    "id": "VoTSt_TT6Xxm",
    "outputId": "dc3381ff-6ee4-4cff-f447-e123909ae98c"
   },
   "outputs": [
    {
     "data": {
      "text/plain": [
       "{'neg': 0.0, 'neu': 0.417, 'pos': 0.583, 'compound': 0.4199}"
      ]
     },
     "execution_count": 8,
     "metadata": {},
     "output_type": "execute_result"
    }
   ],
   "source": [
    "sia.polarity_scores('I like it a lot!')"
   ]
  },
  {
   "cell_type": "code",
   "execution_count": 9,
   "metadata": {
    "colab": {
     "base_uri": "https://localhost:8080/"
    },
    "id": "pF7XOLsk6iRP",
    "outputId": "dfa097b8-1e86-47b1-dcf0-a64e3065d5e6"
   },
   "outputs": [
    {
     "data": {
      "text/plain": [
       "{'neg': 0.0, 'neu': 0.633, 'pos': 0.367, 'compound': 0.4404}"
      ]
     },
     "execution_count": 9,
     "metadata": {},
     "output_type": "execute_result"
    }
   ],
   "source": [
    "sia.polarity_scores('I do not think this is good')"
   ]
  },
  {
   "cell_type": "code",
   "execution_count": 10,
   "metadata": {
    "colab": {
     "base_uri": "https://localhost:8080/"
    },
    "id": "KVhcg5ds6p4K",
    "outputId": "da844dab-c6e5-4fb9-fa67-2874a263114e"
   },
   "outputs": [
    {
     "data": {
      "text/plain": [
       "{'neg': 0.451, 'neu': 0.549, 'pos': 0.0, 'compound': -0.6249}"
      ]
     },
     "execution_count": 10,
     "metadata": {},
     "output_type": "execute_result"
    }
   ],
   "source": [
    "sia.polarity_scores('This is the worst thing ever')"
   ]
  },
  {
   "cell_type": "code",
   "execution_count": 11,
   "metadata": {
    "colab": {
     "base_uri": "https://localhost:8080/"
    },
    "id": "EtqrXCje6yxZ",
    "outputId": "1a937fd2-ba63-4ff0-d7cd-8cd54b9e168c"
   },
   "outputs": [
    {
     "data": {
      "text/plain": [
       "{'neg': 0.0, 'neu': 0.169, 'pos': 0.831, 'compound': 0.7125}"
      ]
     },
     "execution_count": 11,
     "metadata": {},
     "output_type": "execute_result"
    }
   ],
   "source": [
    "example = 'I LOVE that'\n",
    "sia.polarity_scores(example)"
   ]
  },
  {
   "cell_type": "code",
   "execution_count": 12,
   "metadata": {
    "id": "bppDEIyK71fN"
   },
   "outputs": [],
   "source": [
    "# convert 'reviewText' column into str to perform polarity_scores function\n",
    "df['reviewText'] = df['reviewText'].astype(str)"
   ]
  },
  {
   "cell_type": "code",
   "execution_count": 13,
   "metadata": {
    "colab": {
     "base_uri": "https://localhost:8080/"
    },
    "id": "lcR0odG-BC_d",
    "outputId": "73966004-60e6-415c-837b-84b8e8fd7740"
   },
   "outputs": [
    {
     "data": {
      "text/plain": [
       "4915"
      ]
     },
     "execution_count": 13,
     "metadata": {},
     "output_type": "execute_result"
    }
   ],
   "source": [
    "df['reviewerID'].nunique()"
   ]
  },
  {
   "cell_type": "code",
   "execution_count": 14,
   "metadata": {
    "colab": {
     "base_uri": "https://localhost:8080/",
     "height": 49,
     "referenced_widgets": [
      "00c60e4c685547f795b97dd609b96723",
      "b596e9fa1fdf45a0af365d84d923b983",
      "6cf794540fd049e8ba1aef4a33b0f4f5",
      "d749c42891f6489f8e5c01b3eb47d724",
      "ac5da468e05841bda48f4fd7037d3c4a",
      "a8ffe8e8245c4f04b99fd6cbdb2df8a8",
      "4d4d38ac09e04631af15a77b9673a312",
      "263c04a12af54b62b52d66d76f2e797e",
      "c577e42982244598913f0be61e6deeaa",
      "0c7ab45aab0f4d8dbdf78425333a3536",
      "c5915de7b7864258a21e4af520f4a6c4"
     ]
    },
    "id": "IfgKobNh69q0",
    "outputId": "dceb1a1e-9eb0-4a64-f89d-6dc5d7408f7e"
   },
   "outputs": [
    {
     "data": {
      "application/vnd.jupyter.widget-view+json": {
       "model_id": "cde5f14cc5c049ee85656805922e217a",
       "version_major": 2,
       "version_minor": 0
      },
      "text/plain": [
       "  0%|          | 0/4915 [00:00<?, ?it/s]"
      ]
     },
     "metadata": {},
     "output_type": "display_data"
    }
   ],
   "source": [
    "review = {}\n",
    "for i, row in tqdm(df.iterrows(), total=len(df)): # use df.iterrows() to iterate through each row, store index in 'i' and other columns in 'row'\n",
    "    text = row['reviewText']\n",
    "    myid = row['reviewerID']\n",
    "    review[myid] = sia.polarity_scores(text)"
   ]
  },
  {
   "cell_type": "code",
   "execution_count": 15,
   "metadata": {
    "id": "nXdzuOnZ7tdU"
   },
   "outputs": [],
   "source": [
    "vaders = pd.DataFrame(review).T\n",
    "vaders = vaders.reset_index().rename(columns={'index': 'reviewerID'})\n",
    "vaders = vaders.merge(df, how='left') # match 'reviewerID' in vaders with 'reviewerID' in df and merge 4 columns to its left"
   ]
  },
  {
   "cell_type": "code",
   "execution_count": 16,
   "metadata": {
    "colab": {
     "base_uri": "https://localhost:8080/",
     "height": 414
    },
    "id": "TdohKra-DML4",
    "outputId": "57e53db6-3765-435f-97b7-ba3aa77ed9ef"
   },
   "outputs": [
    {
     "data": {
      "text/html": [
       "<div>\n",
       "<style scoped>\n",
       "    .dataframe tbody tr th:only-of-type {\n",
       "        vertical-align: middle;\n",
       "    }\n",
       "\n",
       "    .dataframe tbody tr th {\n",
       "        vertical-align: top;\n",
       "    }\n",
       "\n",
       "    .dataframe thead th {\n",
       "        text-align: right;\n",
       "    }\n",
       "</style>\n",
       "<table border=\"1\" class=\"dataframe\">\n",
       "  <thead>\n",
       "    <tr style=\"text-align: right;\">\n",
       "      <th></th>\n",
       "      <th>reviewerID</th>\n",
       "      <th>neg</th>\n",
       "      <th>neu</th>\n",
       "      <th>pos</th>\n",
       "      <th>compound</th>\n",
       "      <th>asin</th>\n",
       "      <th>reviewerName</th>\n",
       "      <th>helpful</th>\n",
       "      <th>reviewText</th>\n",
       "      <th>overall</th>\n",
       "      <th>summary</th>\n",
       "      <th>unixReviewTime</th>\n",
       "      <th>reviewTime</th>\n",
       "      <th>day_diff</th>\n",
       "      <th>helpful_yes</th>\n",
       "      <th>total_vote</th>\n",
       "    </tr>\n",
       "  </thead>\n",
       "  <tbody>\n",
       "    <tr>\n",
       "      <th>0</th>\n",
       "      <td>A3SBTW3WS4IQSN</td>\n",
       "      <td>0.688</td>\n",
       "      <td>0.312</td>\n",
       "      <td>0.000</td>\n",
       "      <td>-0.2960</td>\n",
       "      <td>B007WTAJTO</td>\n",
       "      <td>NaN</td>\n",
       "      <td>[0, 0]</td>\n",
       "      <td>No issues.</td>\n",
       "      <td>4.0</td>\n",
       "      <td>Four Stars</td>\n",
       "      <td>1406073600</td>\n",
       "      <td>2014-07-23</td>\n",
       "      <td>138</td>\n",
       "      <td>0</td>\n",
       "      <td>0</td>\n",
       "    </tr>\n",
       "    <tr>\n",
       "      <th>1</th>\n",
       "      <td>A18K1ODH1I2MVB</td>\n",
       "      <td>0.075</td>\n",
       "      <td>0.925</td>\n",
       "      <td>0.000</td>\n",
       "      <td>-0.2960</td>\n",
       "      <td>B007WTAJTO</td>\n",
       "      <td>0mie</td>\n",
       "      <td>[0, 0]</td>\n",
       "      <td>Purchased this for my device, it worked as adv...</td>\n",
       "      <td>5.0</td>\n",
       "      <td>MOAR SPACE!!!</td>\n",
       "      <td>1382659200</td>\n",
       "      <td>2013-10-25</td>\n",
       "      <td>409</td>\n",
       "      <td>0</td>\n",
       "      <td>0</td>\n",
       "    </tr>\n",
       "    <tr>\n",
       "      <th>2</th>\n",
       "      <td>A2FII3I2MBMUIA</td>\n",
       "      <td>0.077</td>\n",
       "      <td>0.923</td>\n",
       "      <td>0.000</td>\n",
       "      <td>-0.3089</td>\n",
       "      <td>B007WTAJTO</td>\n",
       "      <td>1K3</td>\n",
       "      <td>[0, 0]</td>\n",
       "      <td>it works as expected. I should have sprung for...</td>\n",
       "      <td>4.0</td>\n",
       "      <td>nothing to really say....</td>\n",
       "      <td>1356220800</td>\n",
       "      <td>2012-12-23</td>\n",
       "      <td>715</td>\n",
       "      <td>0</td>\n",
       "      <td>0</td>\n",
       "    </tr>\n",
       "    <tr>\n",
       "      <th>3</th>\n",
       "      <td>A3H99DFEG68SR</td>\n",
       "      <td>0.000</td>\n",
       "      <td>0.909</td>\n",
       "      <td>0.091</td>\n",
       "      <td>0.7081</td>\n",
       "      <td>B007WTAJTO</td>\n",
       "      <td>1m2</td>\n",
       "      <td>[0, 0]</td>\n",
       "      <td>This think has worked out great.Had a diff. br...</td>\n",
       "      <td>5.0</td>\n",
       "      <td>Great buy at this price!!!  *** UPDATE</td>\n",
       "      <td>1384992000</td>\n",
       "      <td>2013-11-21</td>\n",
       "      <td>382</td>\n",
       "      <td>0</td>\n",
       "      <td>0</td>\n",
       "    </tr>\n",
       "    <tr>\n",
       "      <th>4</th>\n",
       "      <td>A375ZM4U047O79</td>\n",
       "      <td>0.038</td>\n",
       "      <td>0.835</td>\n",
       "      <td>0.127</td>\n",
       "      <td>0.7087</td>\n",
       "      <td>B007WTAJTO</td>\n",
       "      <td>2&amp;amp;1/2Men</td>\n",
       "      <td>[0, 0]</td>\n",
       "      <td>Bought it with Retail Packaging, arrived legit...</td>\n",
       "      <td>5.0</td>\n",
       "      <td>best deal around</td>\n",
       "      <td>1373673600</td>\n",
       "      <td>2013-07-13</td>\n",
       "      <td>513</td>\n",
       "      <td>0</td>\n",
       "      <td>0</td>\n",
       "    </tr>\n",
       "  </tbody>\n",
       "</table>\n",
       "</div>"
      ],
      "text/plain": [
       "       reviewerID    neg    neu    pos  compound        asin  reviewerName  \\\n",
       "0  A3SBTW3WS4IQSN  0.688  0.312  0.000   -0.2960  B007WTAJTO           NaN   \n",
       "1  A18K1ODH1I2MVB  0.075  0.925  0.000   -0.2960  B007WTAJTO          0mie   \n",
       "2  A2FII3I2MBMUIA  0.077  0.923  0.000   -0.3089  B007WTAJTO           1K3   \n",
       "3   A3H99DFEG68SR  0.000  0.909  0.091    0.7081  B007WTAJTO           1m2   \n",
       "4  A375ZM4U047O79  0.038  0.835  0.127    0.7087  B007WTAJTO  2&amp;1/2Men   \n",
       "\n",
       "  helpful                                         reviewText  overall  \\\n",
       "0  [0, 0]                                         No issues.      4.0   \n",
       "1  [0, 0]  Purchased this for my device, it worked as adv...      5.0   \n",
       "2  [0, 0]  it works as expected. I should have sprung for...      4.0   \n",
       "3  [0, 0]  This think has worked out great.Had a diff. br...      5.0   \n",
       "4  [0, 0]  Bought it with Retail Packaging, arrived legit...      5.0   \n",
       "\n",
       "                                  summary  unixReviewTime  reviewTime  \\\n",
       "0                              Four Stars      1406073600  2014-07-23   \n",
       "1                           MOAR SPACE!!!      1382659200  2013-10-25   \n",
       "2               nothing to really say....      1356220800  2012-12-23   \n",
       "3  Great buy at this price!!!  *** UPDATE      1384992000  2013-11-21   \n",
       "4                        best deal around      1373673600  2013-07-13   \n",
       "\n",
       "   day_diff  helpful_yes  total_vote  \n",
       "0       138            0           0  \n",
       "1       409            0           0  \n",
       "2       715            0           0  \n",
       "3       382            0           0  \n",
       "4       513            0           0  "
      ]
     },
     "execution_count": 16,
     "metadata": {},
     "output_type": "execute_result"
    }
   ],
   "source": [
    "vaders.head()"
   ]
  },
  {
   "cell_type": "markdown",
   "metadata": {
    "id": "A2DRzdPmEEVl"
   },
   "source": [
    "# VADER Output\n",
    "\n",
    "**Compound score:**\n",
    "- The VADER method assigns compound scores that align with overall ratings. Low overall ratings (overall = 1 or 2) correspond to low average compound scores, and high ratings (overall = 4 or 5) correspond to high average scores.\n",
    "- The confidence intervals (represented by black lines) do not overlap between high and low ratings.\n",
    "\n",
    "**Negative - Neutral - Positive score:**\n",
    "- Higher rating does have higher average positive score and lower rating also has higher average negative score.\n",
    "- However, on a comparable scale, VADER consistently assigns high neutral scores across all rating levels.\n",
    "- This might suggest that the **model may struggle to clearly differentiate between positive and negative sentiment** for certain types of text.\n",
    "\n",
    "\n"
   ]
  },
  {
   "cell_type": "code",
   "execution_count": 17,
   "metadata": {
    "colab": {
     "base_uri": "https://localhost:8080/",
     "height": 477
    },
    "id": "VL-i_dXmDWny",
    "outputId": "9af68e59-20ee-42ec-ce51-b5e87ab4ffbf"
   },
   "outputs": [
    {
     "data": {
      "image/png": "[encoded data removed]",
      "text/plain": [
       "<Figure size 640x480 with 1 Axes>"
      ]
     },
     "metadata": {},
     "output_type": "display_data"
    }
   ],
   "source": [
    "ax = sns.barplot(data=vaders, x='overall', y='compound', hue='overall', palette=\"muted\")\n",
    "ax.set_title('Compound Score by Overall Rating')\n",
    "plt.show()"
   ]
  },
  {
   "cell_type": "code",
   "execution_count": 18,
   "metadata": {
    "colab": {
     "base_uri": "https://localhost:8080/",
     "height": 307
    },
    "id": "n2NNftKHFY28",
    "outputId": "73cd6936-680e-4258-a42b-0adc96f1b579"
   },
   "outputs": [
    {
     "data": {
      "image/png": "[encoded data removed]",
      "text/plain": [
       "<Figure size 1000x300 with 3 Axes>"
      ]
     },
     "metadata": {},
     "output_type": "display_data"
    }
   ],
   "source": [
    "fig, axs = plt.subplots(1, 3, figsize=(10, 3))\n",
    "sns.barplot(data=vaders, x='overall', y='pos', ax=axs[0], hue='overall', palette=\"muted\", legend=False)\n",
    "sns.barplot(data=vaders, x='overall', y='neu', ax=axs[1], hue='overall', palette=\"muted\", legend=False)\n",
    "sns.barplot(data=vaders, x='overall', y='neg', ax=axs[2], hue='overall', palette=\"muted\", legend=False)\n",
    "axs[0].set_title('Positive VADERS')\n",
    "axs[1].set_title('Neutral VADERS')\n",
    "axs[2].set_title('Negative VADERS')\n",
    "\n",
    "# Synchronize y-axis limits\n",
    "y_min = 0\n",
    "y_max = max(ax.get_ylim()[1] for ax in axs.flat)  # Find the maximum y limit across all subplots\n",
    "for ax in axs.flat:\n",
    "    ax.set_ylim(y_min, y_max)  # Set consistent y-axis limits for all subplots\n",
    "\n",
    "plt.tight_layout()\n",
    "plt.show()"
   ]
  },
  {
   "cell_type": "markdown",
   "metadata": {
    "id": "d00o1AS2Hcub"
   },
   "source": [
    "# Solution 2: Roberta Pretrained Model\n",
    "\n",
    "- The model is based on RoBERTa, which uses a transformer architecture with self-attention mechanisms to **understand the contextual relationships between words** in text.\n",
    "\n",
    "- It is pretrained on large corpora of text, learning to encode linguistic features and relationships in the form of embeddings.\n",
    "\n",
    "- This specific model `cardiffnlp/twitter-roberta-base-sentiment` is a pre-trained model **fine-tuned for sentiment analysis on Twitter data**.\n",
    "\n",
    "# How does it work?\n",
    "\n",
    "1. **Input Text**: A piece of text (e.g., a review) is provided as input to the model.\n",
    "\n",
    "2. **Text Tokenization**: The AutoTokenizer splits the text into tokens, converts them into numerical IDs, and creates attention masks to indicate which tokens are meaningful.\n",
    "\n",
    "3. **Transformer Encoding**: The tokenized input is processed by RoBERTa's transformer layers to create contextual embeddings for each token, with the [CLS]* token summarizing the entire sequence.\n",
    "\n",
    "4. **Classification**:  The final layer of the model is a linear classification head. It takes the [CLS]* token's embedding and maps it to logits for each sentiment class.\n",
    "\n",
    "5. **Prediction**: The logits are passed through the softmax function to calculate probabilities for each sentiment category.\n",
    "The category with the highest probability is selected as the predicted sentiment.\n",
    "\n",
    "\n",
    "\\*\n",
    "[CLS] is fixed special token added to the start of the sequence. Its purpose is to help the model understand that it needs to use the information from that token for classification.\n",
    "\n",
    "source: https://huggingface.co/FacebookAI/roberta-base\n",
    "        ,https://huggingface.co/docs/transformers/en/quicktour"
   ]
  },
  {
   "cell_type": "code",
   "execution_count": 19,
   "metadata": {
    "id": "XIe1QscjINkl"
   },
   "outputs": [],
   "source": [
    "from transformers import AutoTokenizer\n",
    "from transformers import AutoModelForSequenceClassification\n",
    "from scipy.special import softmax"
   ]
  },
  {
   "cell_type": "code",
   "execution_count": 20,
   "metadata": {
    "colab": {
     "base_uri": "https://localhost:8080/",
     "height": 301,
     "referenced_widgets": [
      "47819c6c29f54e4199e7c87255a66be8",
      "19867f56a132434eb5af131a6a761abf",
      "1fc0845f693d4357a7f4bcbc77a1cd3a",
      "046088f1c6f4400986a3cd99afa0601f",
      "f91cbb5b40f54a4eaaa0b5cfe2f02fef",
      "e1ca739bd56e4ab4bf6422165920f8b6",
      "281b5d07ff5e4782af1c0f3496609367",
      "f88ebc4649cd438381aa9fc2317b8f24",
      "14fd5fe70da74daa8053553c281176bd",
      "14bb4d032e4c405b913efd1a876f7356",
      "095700c560c5417a9e591bfb8d0e2ccb",
      "1f4fc6c76b194fc4bca72704740debff",
      "5cc3aae1dde342afb2cd8835fe04761d",
      "8a177a7aa2f2489d8ef96e2bad92dc1d",
      "056c3ac4b30549348bd1c34019d27f93",
      "acd3b3181592464c93190b12bc6c2328",
      "9fd39ee64572474caf74fd50f527a9a9",
      "3919785aa2194b5cb18a0fc3cf423143",
      "1d27a4b60a5d476ea1e9775009da4eae",
      "a85777766b2f4cf7989aad348d4b7661",
      "eae39d97ab0e43ea83fd4d7755f3dd04",
      "c5f191fda2204d13a30f97fed2f4a886",
      "c20b84e61ce14bbf8751eedb09cb0d91",
      "8301aaee6312421cbb4c9f16101aaf1b",
      "a60be5b849ae42ce83686e1da2487edc",
      "93bd3415b6184e859ef63116fd7eeeb4",
      "ee7f8725d1574b54918f2b310d3f9709",
      "d81de3fa96c44a6ea9b7e34d30edeebc",
      "2dcea1d72aac4978ab0af234a94818a0",
      "b1f426e08c724b0ba287a06a9516cfe1",
      "52500f8218614176806dbd27bf974f76",
      "ada23fc2aa864232a60dad6f6e1d8c9d",
      "f43986d814d244b29afb3c07427e3180",
      "99ebdbd6c13d4d3e9d3db9a410677637",
      "94331230a7464b91963f583095a6c25a",
      "7bf9ec182ec84bb193121590ccf34b5a",
      "1020813466354c38ab89dcd8b11f45c6",
      "323714d3b099449aa4a9694c541bb68a",
      "9e6b503ad3484d9385b0ea6189862374",
      "7b81ec4ead524642a966ef8d59769a3e",
      "30b98489a2e34bd4a7ff0172586667ae",
      "986fa89cdf534ce1b3d0adef5d3226d0",
      "7aa12f98055f4f9eab3d7e55c6c227dc",
      "bb91442429cd4b91a1c8fcb3655fc36f",
      "54282e6c7c52441c892682fd3ef3af42",
      "2783922e8ebd44d4baebad0082537e95",
      "235a42d537b6437e9c7c90b1ed7d43da",
      "60e371d2f7b54a8ca564833e58c43b10",
      "ba144ada09d94feeb761a422dc024947",
      "4b298083001040b79be69c5c404d0056",
      "1dafd91a8567420f9f05d7b67f39125e",
      "f3d54b8722e147bebefc2a3f24d6a1ed",
      "72467868552f4d6f85c124007543846a",
      "7932f22dbe844e93a3009e448057e2a8",
      "ead4f19181aa4917a583922a792c1187"
     ]
    },
    "id": "3qhId9ibIcDX",
    "outputId": "a48ed8eb-401b-420e-e9db-4880c0b74321"
   },
   "outputs": [
    {
     "data": {
      "application/vnd.jupyter.widget-view+json": {
       "model_id": "92fdf2f54b8b4cc388b8f8f571ae1923",
       "version_major": 2,
       "version_minor": 0
      },
      "text/plain": [
       "pytorch_model.bin:   0%|          | 0.00/499M [00:00<?, ?B/s]"
      ]
     },
     "metadata": {},
     "output_type": "display_data"
    }
   ],
   "source": [
    "MODEL = f\"cardiffnlp/twitter-roberta-base-sentiment\"\n",
    "tokenizer = AutoTokenizer.from_pretrained(MODEL)\n",
    "model = AutoModelForSequenceClassification.from_pretrained(MODEL)"
   ]
  },
  {
   "cell_type": "code",
   "execution_count": 21,
   "metadata": {
    "colab": {
     "base_uri": "https://localhost:8080/"
    },
    "id": "K3i7DJ-4JciY",
    "outputId": "e384f0f9-e06b-4305-da74-29cd0e5b7e37"
   },
   "outputs": [
    {
     "name": "stdout",
     "output_type": "stream",
     "text": [
      "{'roberta_neg': 0.006516012, 'roberta_neu': 0.024792032, 'roberta_pos': 0.96869195}\n"
     ]
    }
   ],
   "source": [
    "# Run Roberta Model\n",
    "encoded_text = tokenizer(example, return_tensors='pt')\n",
    "output = model(**encoded_text)\n",
    "scores = output[0][0].detach().numpy()\n",
    "scores = softmax(scores)\n",
    "scores_dict = {\n",
    "    'roberta_neg' : scores[0],\n",
    "    'roberta_neu' : scores[1],\n",
    "    'roberta_pos' : scores[2]\n",
    "}\n",
    "print(scores_dict)"
   ]
  },
  {
   "cell_type": "code",
   "execution_count": 22,
   "metadata": {
    "id": "whjGGi5gJq-G"
   },
   "outputs": [],
   "source": [
    "# define polarity score function for roberta\n",
    "\n",
    "def polarity_scores_roberta(example):\n",
    "    encoded_text = tokenizer(example, return_tensors='pt')\n",
    "    output = model(**encoded_text)\n",
    "    scores = output[0][0].detach().numpy()\n",
    "    scores = softmax(scores)\n",
    "    scores_dict = {\n",
    "        'roberta_neg' : scores[0],\n",
    "        'roberta_neu' : scores[1],\n",
    "        'roberta_pos' : scores[2]\n",
    "    }\n",
    "    return scores_dict"
   ]
  },
  {
   "cell_type": "code",
   "execution_count": 23,
   "metadata": {
    "id": "Vq8Tk7wcLb1h"
   },
   "outputs": [],
   "source": [
    "df['reviewText'] = df['reviewText'].astype(str)"
   ]
  },
  {
   "cell_type": "code",
   "execution_count": 24,
   "metadata": {
    "colab": {
     "base_uri": "https://localhost:8080/",
     "height": 361,
     "referenced_widgets": [
      "742e2b6d7c04480bb94699f66e62ffd4",
      "d548b2c5bc284d36b5c2268b3418f2ac",
      "a83114042989463e940036846e77e071",
      "d81bd2878b654fa5ae6514108627b4ee",
      "4f5a638127ad49fd9d1d792338592639",
      "56fc8822b79b46af92849e712fae5410",
      "ba5ed8a0793b43f3b29db66d007d0254",
      "94bce5ce7ce244a4a21623e1c2873710",
      "84e1c36fc51648789289e43596f2a1a8",
      "cab68d85c9ea49ad84c7847ebbbc2913",
      "745e8b4b6dc540808948a15b76c4f11d"
     ]
    },
    "id": "bdNmYqZIKXvX",
    "outputId": "64414263-a1c2-4d8f-effb-11de2f749bd0"
   },
   "outputs": [
    {
     "data": {
      "application/vnd.jupyter.widget-view+json": {
       "model_id": "0de231a3c0c541969d60ffa61c82a593",
       "version_major": 2,
       "version_minor": 0
      },
      "text/plain": [
       "  0%|          | 0/4915 [00:00<?, ?it/s]"
      ]
     },
     "metadata": {},
     "output_type": "display_data"
    },
    {
     "name": "stdout",
     "output_type": "stream",
     "text": [
      "Broke for id A1LP4NB5X34HF8\n",
      "Broke for id A1UM44ILLZCEI1\n",
      "Broke for id A1LRDKHATAJTHV\n",
      "Broke for id A3FQ9WYUHG9CD\n",
      "Broke for id A12B7ZMXFI6IXY\n",
      "Broke for id A1AANYVDE04JF1\n",
      "Broke for id A3VSG5X7GPNNW6\n",
      "Broke for id A12ESGQ81M70JX\n",
      "Broke for id ADPDMLUDAMML0\n",
      "Broke for id A36U8X10T0BFVJ\n",
      "Broke for id AOEAD7DPLZE53\n",
      "Broke for id A18HE80910BTZI\n",
      "Broke for id A2Y2HXLF29KBEC\n",
      "Broke for id A14PJ6GP1GS4TM\n",
      "Broke for id AVBMZZAFEKO58\n",
      "Broke for id AWKYTPVNNZELL\n",
      "Broke for id A1PPMB99YNFPRH\n",
      "Broke for id A1WTQUOQ4WG9AI\n"
     ]
    }
   ],
   "source": [
    "# Skip some reviews that cause RuntimeError\n",
    "\n",
    "review_roberta = {}\n",
    "for i, row in tqdm(df.iterrows(), total = len(df)):\n",
    "  try:\n",
    "    text = row['reviewText']\n",
    "    myid = row['reviewerID']\n",
    "    review_roberta[myid] = polarity_scores_roberta(text)\n",
    "  except RuntimeError:\n",
    "        print(f'Broke for id {myid}')"
   ]
  },
  {
   "cell_type": "code",
   "execution_count": 25,
   "metadata": {
    "id": "w7m0YpUVXITR"
   },
   "outputs": [],
   "source": [
    "roberta = pd.DataFrame(review_roberta).T\n",
    "roberta = roberta.reset_index().rename(columns={'index': 'reviewerID'})\n",
    "roberta_vaders_df = roberta.merge(vaders, how='left')"
   ]
  },
  {
   "cell_type": "code",
   "execution_count": 26,
   "metadata": {
    "id": "S5bewlM4Xru8"
   },
   "outputs": [],
   "source": [
    "roberta_vaders_df.rename(columns={'pos': 'vaders_pos', 'neu': 'vaders_neu', 'neg': 'vaders_neg', 'compound':'vaders_compound'}, inplace=True)"
   ]
  },
  {
   "cell_type": "code",
   "execution_count": 27,
   "metadata": {
    "colab": {
     "base_uri": "https://localhost:8080/",
     "height": 503
    },
    "id": "eVRAOmQMXe4r",
    "outputId": "00c7f001-f328-4f59-888f-ccfdccdab1c7"
   },
   "outputs": [
    {
     "data": {
      "text/html": [
       "<div>\n",
       "<style scoped>\n",
       "    .dataframe tbody tr th:only-of-type {\n",
       "        vertical-align: middle;\n",
       "    }\n",
       "\n",
       "    .dataframe tbody tr th {\n",
       "        vertical-align: top;\n",
       "    }\n",
       "\n",
       "    .dataframe thead th {\n",
       "        text-align: right;\n",
       "    }\n",
       "</style>\n",
       "<table border=\"1\" class=\"dataframe\">\n",
       "  <thead>\n",
       "    <tr style=\"text-align: right;\">\n",
       "      <th></th>\n",
       "      <th>reviewerID</th>\n",
       "      <th>roberta_neg</th>\n",
       "      <th>roberta_neu</th>\n",
       "      <th>roberta_pos</th>\n",
       "      <th>vaders_neg</th>\n",
       "      <th>vaders_neu</th>\n",
       "      <th>vaders_pos</th>\n",
       "      <th>vaders_compound</th>\n",
       "      <th>asin</th>\n",
       "      <th>reviewerName</th>\n",
       "      <th>helpful</th>\n",
       "      <th>reviewText</th>\n",
       "      <th>overall</th>\n",
       "      <th>summary</th>\n",
       "      <th>unixReviewTime</th>\n",
       "      <th>reviewTime</th>\n",
       "      <th>day_diff</th>\n",
       "      <th>helpful_yes</th>\n",
       "      <th>total_vote</th>\n",
       "    </tr>\n",
       "  </thead>\n",
       "  <tbody>\n",
       "    <tr>\n",
       "      <th>0</th>\n",
       "      <td>A3SBTW3WS4IQSN</td>\n",
       "      <td>0.074959</td>\n",
       "      <td>0.589215</td>\n",
       "      <td>0.335826</td>\n",
       "      <td>0.688</td>\n",
       "      <td>0.312</td>\n",
       "      <td>0.000</td>\n",
       "      <td>-0.2960</td>\n",
       "      <td>B007WTAJTO</td>\n",
       "      <td>NaN</td>\n",
       "      <td>[0, 0]</td>\n",
       "      <td>No issues.</td>\n",
       "      <td>4.0</td>\n",
       "      <td>Four Stars</td>\n",
       "      <td>1406073600</td>\n",
       "      <td>2014-07-23</td>\n",
       "      <td>138</td>\n",
       "      <td>0</td>\n",
       "      <td>0</td>\n",
       "    </tr>\n",
       "    <tr>\n",
       "      <th>1</th>\n",
       "      <td>A18K1ODH1I2MVB</td>\n",
       "      <td>0.007265</td>\n",
       "      <td>0.095529</td>\n",
       "      <td>0.897206</td>\n",
       "      <td>0.075</td>\n",
       "      <td>0.925</td>\n",
       "      <td>0.000</td>\n",
       "      <td>-0.2960</td>\n",
       "      <td>B007WTAJTO</td>\n",
       "      <td>0mie</td>\n",
       "      <td>[0, 0]</td>\n",
       "      <td>Purchased this for my device, it worked as adv...</td>\n",
       "      <td>5.0</td>\n",
       "      <td>MOAR SPACE!!!</td>\n",
       "      <td>1382659200</td>\n",
       "      <td>2013-10-25</td>\n",
       "      <td>409</td>\n",
       "      <td>0</td>\n",
       "      <td>0</td>\n",
       "    </tr>\n",
       "    <tr>\n",
       "      <th>2</th>\n",
       "      <td>A2FII3I2MBMUIA</td>\n",
       "      <td>0.423757</td>\n",
       "      <td>0.448310</td>\n",
       "      <td>0.127933</td>\n",
       "      <td>0.077</td>\n",
       "      <td>0.923</td>\n",
       "      <td>0.000</td>\n",
       "      <td>-0.3089</td>\n",
       "      <td>B007WTAJTO</td>\n",
       "      <td>1K3</td>\n",
       "      <td>[0, 0]</td>\n",
       "      <td>it works as expected. I should have sprung for...</td>\n",
       "      <td>4.0</td>\n",
       "      <td>nothing to really say....</td>\n",
       "      <td>1356220800</td>\n",
       "      <td>2012-12-23</td>\n",
       "      <td>715</td>\n",
       "      <td>0</td>\n",
       "      <td>0</td>\n",
       "    </tr>\n",
       "    <tr>\n",
       "      <th>3</th>\n",
       "      <td>A3H99DFEG68SR</td>\n",
       "      <td>0.002447</td>\n",
       "      <td>0.019229</td>\n",
       "      <td>0.978324</td>\n",
       "      <td>0.000</td>\n",
       "      <td>0.909</td>\n",
       "      <td>0.091</td>\n",
       "      <td>0.7081</td>\n",
       "      <td>B007WTAJTO</td>\n",
       "      <td>1m2</td>\n",
       "      <td>[0, 0]</td>\n",
       "      <td>This think has worked out great.Had a diff. br...</td>\n",
       "      <td>5.0</td>\n",
       "      <td>Great buy at this price!!!  *** UPDATE</td>\n",
       "      <td>1384992000</td>\n",
       "      <td>2013-11-21</td>\n",
       "      <td>382</td>\n",
       "      <td>0</td>\n",
       "      <td>0</td>\n",
       "    </tr>\n",
       "    <tr>\n",
       "      <th>4</th>\n",
       "      <td>A375ZM4U047O79</td>\n",
       "      <td>0.003552</td>\n",
       "      <td>0.067459</td>\n",
       "      <td>0.928989</td>\n",
       "      <td>0.038</td>\n",
       "      <td>0.835</td>\n",
       "      <td>0.127</td>\n",
       "      <td>0.7087</td>\n",
       "      <td>B007WTAJTO</td>\n",
       "      <td>2&amp;amp;1/2Men</td>\n",
       "      <td>[0, 0]</td>\n",
       "      <td>Bought it with Retail Packaging, arrived legit...</td>\n",
       "      <td>5.0</td>\n",
       "      <td>best deal around</td>\n",
       "      <td>1373673600</td>\n",
       "      <td>2013-07-13</td>\n",
       "      <td>513</td>\n",
       "      <td>0</td>\n",
       "      <td>0</td>\n",
       "    </tr>\n",
       "  </tbody>\n",
       "</table>\n",
       "</div>"
      ],
      "text/plain": [
       "       reviewerID  roberta_neg  roberta_neu  roberta_pos  vaders_neg  \\\n",
       "0  A3SBTW3WS4IQSN     0.074959     0.589215     0.335826       0.688   \n",
       "1  A18K1ODH1I2MVB     0.007265     0.095529     0.897206       0.075   \n",
       "2  A2FII3I2MBMUIA     0.423757     0.448310     0.127933       0.077   \n",
       "3   A3H99DFEG68SR     0.002447     0.019229     0.978324       0.000   \n",
       "4  A375ZM4U047O79     0.003552     0.067459     0.928989       0.038   \n",
       "\n",
       "   vaders_neu  vaders_pos  vaders_compound        asin  reviewerName helpful  \\\n",
       "0       0.312       0.000          -0.2960  B007WTAJTO           NaN  [0, 0]   \n",
       "1       0.925       0.000          -0.2960  B007WTAJTO          0mie  [0, 0]   \n",
       "2       0.923       0.000          -0.3089  B007WTAJTO           1K3  [0, 0]   \n",
       "3       0.909       0.091           0.7081  B007WTAJTO           1m2  [0, 0]   \n",
       "4       0.835       0.127           0.7087  B007WTAJTO  2&amp;1/2Men  [0, 0]   \n",
       "\n",
       "                                          reviewText  overall  \\\n",
       "0                                         No issues.      4.0   \n",
       "1  Purchased this for my device, it worked as adv...      5.0   \n",
       "2  it works as expected. I should have sprung for...      4.0   \n",
       "3  This think has worked out great.Had a diff. br...      5.0   \n",
       "4  Bought it with Retail Packaging, arrived legit...      5.0   \n",
       "\n",
       "                                  summary  unixReviewTime  reviewTime  \\\n",
       "0                              Four Stars      1406073600  2014-07-23   \n",
       "1                           MOAR SPACE!!!      1382659200  2013-10-25   \n",
       "2               nothing to really say....      1356220800  2012-12-23   \n",
       "3  Great buy at this price!!!  *** UPDATE      1384992000  2013-11-21   \n",
       "4                        best deal around      1373673600  2013-07-13   \n",
       "\n",
       "   day_diff  helpful_yes  total_vote  \n",
       "0       138            0           0  \n",
       "1       409            0           0  \n",
       "2       715            0           0  \n",
       "3       382            0           0  \n",
       "4       513            0           0  "
      ]
     },
     "execution_count": 27,
     "metadata": {},
     "output_type": "execute_result"
    }
   ],
   "source": [
    "roberta_vaders_df.head()"
   ]
  },
  {
   "cell_type": "markdown",
   "metadata": {
    "id": "njkUaDCBlgwr"
   },
   "source": [
    "# ROBERTA vs. VADER Output\n",
    "The bar charts below indicate that RoBERTa outperforms VADER in distinguishing between positive and negative comments. This is evident from:\n",
    "\n",
    "- A 2.5x lower neutral score compared to VADER.\n",
    "- Over a 4x higher average positive score for high ratings (overall = 4 or 5).\n",
    "- Approximately a 6x higher average negative score for low ratings (overall = 1 or 2).\n",
    "- The highest average neutral score occurring when the overall rating is 3.\n",
    "\n",
    "This is likely because RoBERTa considers the context of the text, rather than analyzing words in isolation as VADER does."
   ]
  },
  {
   "cell_type": "code",
   "execution_count": 28,
   "metadata": {
    "colab": {
     "base_uri": "https://localhost:8080/",
     "height": 807
    },
    "id": "ql21qa3XdT_S",
    "outputId": "dbf209d3-c90f-40bd-fd16-34cd53fdeeb6"
   },
   "outputs": [
    {
     "data": {
      "image/png": "[encoded data removed]",
      "text/plain": [
       "<Figure size 1500x800 with 6 Axes>"
      ]
     },
     "metadata": {},
     "output_type": "display_data"
    }
   ],
   "source": [
    "import matplotlib.pyplot as plt\n",
    "import seaborn as sns\n",
    "\n",
    "fig, axs = plt.subplots(2, 3, figsize=(15, 8))\n",
    "sns.barplot(data=roberta_vaders_df, x='overall', y='vaders_pos', ax=axs[0, 0], hue='overall', palette=\"muted\", dodge=False, legend=False)\n",
    "sns.barplot(data=roberta_vaders_df, x='overall', y='vaders_neu', ax=axs[0, 1], hue='overall', palette=\"muted\", dodge=False, legend=False)\n",
    "sns.barplot(data=roberta_vaders_df, x='overall', y='vaders_neg', ax=axs[0, 2], hue='overall', palette=\"muted\", dodge=False, legend=False)\n",
    "sns.barplot(data=roberta_vaders_df, x='overall', y='roberta_pos', ax=axs[1, 0], hue='overall', palette=\"muted\", dodge=False, legend=False)\n",
    "sns.barplot(data=roberta_vaders_df, x='overall', y='roberta_neu', ax=axs[1, 1], hue='overall', palette=\"muted\", dodge=False, legend=False)\n",
    "sns.barplot(data=roberta_vaders_df, x='overall', y='roberta_neg', ax=axs[1, 2], hue='overall', palette=\"muted\", dodge=False, legend=False)\n",
    "axs[0, 0].set_title('Positive VADERS')\n",
    "axs[0, 1].set_title('Neutral VADERS')\n",
    "axs[0, 2].set_title('Negative VADERS')\n",
    "axs[1, 0].set_title('Positive ROBERTA')\n",
    "axs[1, 1].set_title('Neutral ROBERTA')\n",
    "axs[1, 2].set_title('Negative ROBERTA')\n",
    "\n",
    "# Synchronize y-axis limits\n",
    "y_min = 0\n",
    "y_max = max(ax.get_ylim()[1] for ax in axs.flat)  # Find the maximum y limit across all subplots\n",
    "for ax in axs.flat:\n",
    "    ax.set_ylim(y_min, y_max)  # Set consistent y-axis limits for all subplots\n",
    "\n",
    "plt.tight_layout()\n",
    "plt.show()"
   ]
  },
  {
   "cell_type": "markdown",
   "metadata": {
    "id": "UitSgrNfZOw6"
   },
   "source": [
    "# Cross check\n",
    "\n",
    "- Both RoBERTa and VADER may assign positive scores to comments where some favorable aspects are mentioned, even if they are followed by negative remarks about the product. Similarly, when negative words (e.g., \"terrible,\" \"ridiculous\") are present, the model still assigns negative scores, even if the overall comment is positive.\n",
    "\n",
    "- However, this is not a significant issue, especially for RoBERTa, as the average positive or negative scores for such comments remain low, reflecting the overall sentiment accurately."
   ]
  },
  {
   "cell_type": "code",
   "execution_count": 29,
   "metadata": {
    "colab": {
     "base_uri": "https://localhost:8080/"
    },
    "id": "L6zQccCDlm1v",
    "outputId": "6456f98b-b701-4c48-838f-bb69368b1c3e"
   },
   "outputs": [
    {
     "data": {
      "text/plain": [
       "array(['I returned to order a 11.6 laptop so I could have full operations than having a Notebook. I am sure this is good quality as I have purchased San Disk numerous times.',\n",
       "       \"I have zero complaints, this card does exactly what it should. I'm amazed by how inexpensive memory cards continue to get. These things are really useful to throw on your keychain because they're so small.Update: From 5 stars to 1. Dead after 4 months. Appears to be a fairly common issue: [...] Let's see how the RMA process goes....\",\n",
       "       'I can say that SanDisk is one of the best company in the fields of electronics and Digital Cameras, but I am very dissapointed of this Memory Card.The card memory is only 25GB and the speed is 14MB/s which is not as advertised.I gave it to my dad to use it on his phone and I started to use the Sony 32GB MicroSD. I can say that it works perfectly: the storage is 32GB and the speed is 43MB/s.Buy it now: http://amzn.to/1iGqMVm . This is the exact link I used to buy mine.'],\n",
       "      dtype=object)"
      ]
     },
     "execution_count": 29,
     "metadata": {},
     "output_type": "execute_result"
    }
   ],
   "source": [
    "# Instances where overall rating is 1 but roberta assign high positive score\n",
    "roberta_vaders_df.query('overall == 1').sort_values('roberta_pos', ascending=False)['reviewText'].values[:3]"
   ]
  },
  {
   "cell_type": "code",
   "execution_count": 30,
   "metadata": {
    "colab": {
     "base_uri": "https://localhost:8080/"
    },
    "id": "g7QwBuXIssIc",
    "outputId": "f3216d2b-0a41-423f-b5b1-b333db7d5e82"
   },
   "outputs": [
    {
     "data": {
      "text/plain": [
       "array(['Crashed... Lost everything... Thanks SanDisk.  Used in gs4..not a solid product couple years worth of stuff gone in an instant.',\n",
       "       'The card only read as 27 GB not 64 GB. I have formatted in various formats with various tools, and operating systems. I ordered a replacement and concluded this was a dud. Good luck buying this product, rest assured amazon has a good return policy.',\n",
       "       \"Fast card while it worked.  Died less than a week after return period expired....  Must note though that that is the nature of any memory storage card or drive.  Some fail, some last forever.  Not SanDisk's fault, not amazons fault - it is what it is.  BUT it is for this reason that i think Amazon should extend the return period on items which fall into this category.  Dont worry amazon, i still love you - but feel like your played the role of a proctologist on this one...\"],\n",
       "      dtype=object)"
      ]
     },
     "execution_count": 30,
     "metadata": {},
     "output_type": "execute_result"
    }
   ],
   "source": [
    "roberta_vaders_df.query('overall == 1').sort_values('vaders_pos', ascending=False)['reviewText'].values[:3]"
   ]
  },
  {
   "cell_type": "code",
   "execution_count": 31,
   "metadata": {
    "colab": {
     "base_uri": "https://localhost:8080/"
    },
    "id": "3nXpR_HzsujX",
    "outputId": "4c7bec7b-842f-4acb-dcd0-7c0e3609777a"
   },
   "outputs": [
    {
     "data": {
      "text/plain": [
       "array([\"I only buy thru Amazon I've tried eBay and you always come thru and I got messed over four times and no real recourse you just lose and PayPal is nobodies pal. And these no more rack are terrible and all these others take my advise stick with the one that has always came thru every time for me. Amazon and only Amazon . H.Rhodes\",\n",
       "       'Appears to be Class 10, holds about as much as it says it does, came with an SD card adapter and they even gave me the option to forgo those ridiculous plastic packages that you all know and hate. The ones that the scissors refuse to cut and you just end up hurting yourself a few times before getting it open. Completely as advertised.',\n",
       "       'My only problem is that I have not been able to use its full potential.'],\n",
       "      dtype=object)"
      ]
     },
     "execution_count": 31,
     "metadata": {},
     "output_type": "execute_result"
    }
   ],
   "source": [
    "roberta_vaders_df.query('overall == 5').sort_values('roberta_neg', ascending=False)['reviewText'].values[:3]"
   ]
  },
  {
   "cell_type": "code",
   "execution_count": 32,
   "metadata": {
    "colab": {
     "base_uri": "https://localhost:8080/"
    },
    "id": "kRMw_j1_sxQD",
    "outputId": "6273abd6-c367-4fb3-c399-1f18d4058f33"
   },
   "outputs": [
    {
     "data": {
      "text/plain": [
       "array(['No problems!', 'No issues.', 'Doing its thing, no complaints'],\n",
       "      dtype=object)"
      ]
     },
     "execution_count": 32,
     "metadata": {},
     "output_type": "execute_result"
    }
   ],
   "source": [
    "roberta_vaders_df.query('overall == 5').sort_values('vaders_neg', ascending=False)['reviewText'].values[:3]"
   ]
  },
  {
   "cell_type": "markdown",
   "metadata": {
    "id": "q03acrERvcJY"
   },
   "source": [
    "# Word cloud\n",
    "\n",
    "- Most reviews mentions product names like card, phone, memory and sandisk.\n",
    "- In term of features, works, great, price and fast are the top most repeated features."
   ]
  },
  {
   "cell_type": "code",
   "execution_count": 33,
   "metadata": {
    "colab": {
     "base_uri": "https://localhost:8080/",
     "height": 758
    },
    "id": "mXsERKbUbiwl",
    "outputId": "15e01b14-8dea-4a57-f903-136500db22fb"
   },
   "outputs": [
    {
     "name": "stderr",
     "output_type": "stream",
     "text": [
      "[nltk_data] Downloading package punkt_tab to\n",
      "[nltk_data]     /Users/ptanthavorn/nltk_data...\n",
      "[nltk_data]   Unzipping tokenizers/punkt_tab.zip.\n",
      "[nltk_data] Downloading package stopwords to\n",
      "[nltk_data]     /Users/ptanthavorn/nltk_data...\n",
      "[nltk_data]   Unzipping corpora/stopwords.zip.\n"
     ]
    },
    {
     "name": "stdout",
     "output_type": "stream",
     "text": [
      "           Word  Count\n",
      "31         card   4345\n",
      "7         phone   1673\n",
      "14        works   1547\n",
      "109       great   1453\n",
      "8        memory   1338\n",
      "...         ...    ...\n",
      "4541    memoria      1\n",
      "4542  alamcenar      1\n",
      "4543     damned      1\n",
      "4544    surpass      1\n",
      "7582         sk      1\n",
      "\n",
      "[7583 rows x 2 columns]\n"
     ]
    },
    {
     "data": {
      "image/png": "[encoded data removed]",
      "text/plain": [
       "<Figure size 1000x500 with 1 Axes>"
      ]
     },
     "metadata": {},
     "output_type": "display_data"
    }
   ],
   "source": [
    "import pandas as pd\n",
    "from collections import Counter\n",
    "from nltk.corpus import stopwords\n",
    "from nltk.tokenize import word_tokenize\n",
    "from wordcloud import WordCloud\n",
    "import matplotlib.pyplot as plt\n",
    "import nltk\n",
    "nltk.download('punkt_tab')\n",
    "nltk.download('stopwords')\n",
    "\n",
    "# Tokenize words and remove stopwords\n",
    "stop_words = set(stopwords.words('english'))\n",
    "all_words = []\n",
    "\n",
    "for text in roberta_vaders_df['reviewText']:\n",
    "    tokens = word_tokenize(text.lower())  # Tokenize and convert to lowercase\n",
    "    filtered_words = [word for word in tokens if word.isalnum() and word not in stop_words]\n",
    "    all_words.extend(filtered_words)\n",
    "\n",
    "# Count word frequencies\n",
    "word_counts = Counter(all_words)\n",
    "\n",
    "# Convert to DataFrame for ranking\n",
    "word_freq_df = pd.DataFrame(word_counts.items(), columns=['Word', 'Count']).sort_values(by='Count', ascending=False)\n",
    "print(word_freq_df)\n",
    "\n",
    "# Generate a word cloud\n",
    "wordcloud = WordCloud(width=800, height=400, background_color='white').generate_from_frequencies(word_counts)\n",
    "\n",
    "# Plot the word cloud\n",
    "plt.figure(figsize=(10, 5))\n",
    "plt.imshow(wordcloud, interpolation='bilinear')\n",
    "plt.axis('off')\n",
    "plt.title('Word Cloud of Most Frequent Words', fontsize=16)\n",
    "plt.show()"
   ]
  },
  {
   "cell_type": "markdown",
   "metadata": {
    "id": "QzfYjKLMwddC"
   },
   "source": [
    "# Appendix"
   ]
  },
  {
   "cell_type": "markdown",
   "metadata": {
    "id": "O7oEiUAuuniE"
   },
   "source": [
    "# Topic modeling: Latent Dirichlet Allocation (LDA)\n",
    "The dataset contains reviews of a wide range of products on an e-commerce platform. We could classify each review by product category, enabling targeted sentiment analysis if we want to better understand customer opinions on specific products group."
   ]
  },
  {
   "cell_type": "code",
   "execution_count": 34,
   "metadata": {
    "colab": {
     "base_uri": "https://localhost:8080/"
    },
    "id": "EeJ8ksXPtx1C",
    "outputId": "79a7c581-bd07-46b9-8a77-a6fb2b20d0c3"
   },
   "outputs": [
    {
     "name": "stdout",
     "output_type": "stream",
     "text": [
      "Topic 0:\n",
      "['10', 'cards', 'data', 'memory', 'class', 'phone', 'adapter', 'micro', 'sd', 'card']\n",
      "Topic 1:\n",
      "['just', 'exfat', 'read', 'formatted', 'work', 'phone', 'card', 'works', 'fat32', 'format']\n",
      "Topic 2:\n",
      "['memory', 'tablet', 'bought', 'storage', 'card', 'phone', 'works', 'samsung', 'note', 'galaxy']\n",
      "Topic 3:\n",
      "['files', 'movies', 'computer', 'storage', 'memory', 'sd', 'space', 'music', 'phone', 'card']\n",
      "Topic 4:\n",
      "['cards', 'tried', 'amazon', 'sd', 'just', 'problem', 'months', 'sandisk', 'phone', 'card']\n",
      "Topic 5:\n",
      "['write', 'gb', '10', 'sandisk', 'sd', 'tablet', 'speed', 'cards', '34', 'card']\n",
      "Topic 6:\n",
      "['pro', 'bought', 'surface', 'video', 'card', 'camera', 'use', 'great', 'gopro', 'works']\n",
      "Topic 7:\n",
      "['product', 'galaxy', 'good', 'phone', 'fast', 'card', 'price', 'memory', 'works', 'great']\n",
      "Topic 8:\n",
      "['buy', 'good', 'speed', 'price', '10', 'memory', 'class', 'card', 'cards', 'sandisk']\n",
      "Topic 9:\n",
      "['works', 'recording', 'fast', 'high', 'hd', 'use', 'disk', 'good', 'video', 'camera']\n"
     ]
    }
   ],
   "source": [
    "from sklearn.feature_extraction.text import CountVectorizer\n",
    "from sklearn.decomposition import LatentDirichletAllocation\n",
    "\n",
    "# Preprocess the text\n",
    "vectorizer = CountVectorizer(max_df=0.95, min_df=2, stop_words=\"english\") # words need to appear in less than 95% of the document but no less than 2 documents to be included\n",
    "dtm = vectorizer.fit_transform(df[\"reviewText\"].dropna())\n",
    "\n",
    "# Fit the LDA model\n",
    "lda = LatentDirichletAllocation(n_components=10, random_state=42)  # Choose 10 categories\n",
    "lda.fit(dtm)\n",
    "\n",
    "# Display the top words for each topic\n",
    "for idx, topic in enumerate(lda.components_):\n",
    "    print(f\"Topic {idx}:\")\n",
    "    print([vectorizer.get_feature_names_out()[i] for i in topic.argsort()[-10:]])"
   ]
  },
  {
   "cell_type": "code",
   "execution_count": 35,
   "metadata": {
    "colab": {
     "base_uri": "https://localhost:8080/"
    },
    "id": "V2b1F9g82aEu",
    "outputId": "0f716ba6-0ae8-4b96-842c-7a43efe5e607"
   },
   "outputs": [
    {
     "name": "stdout",
     "output_type": "stream",
     "text": [
      "       reviewerID        asin  reviewerName helpful  \\\n",
      "0  A3SBTW3WS4IQSN  B007WTAJTO           NaN  [0, 0]   \n",
      "1  A18K1ODH1I2MVB  B007WTAJTO          0mie  [0, 0]   \n",
      "2  A2FII3I2MBMUIA  B007WTAJTO           1K3  [0, 0]   \n",
      "3   A3H99DFEG68SR  B007WTAJTO           1m2  [0, 0]   \n",
      "4  A375ZM4U047O79  B007WTAJTO  2&amp;1/2Men  [0, 0]   \n",
      "\n",
      "                                          reviewText  overall  \\\n",
      "0                                         No issues.      4.0   \n",
      "1  Purchased this for my device, it worked as adv...      5.0   \n",
      "2  it works as expected. I should have sprung for...      4.0   \n",
      "3  This think has worked out great.Had a diff. br...      5.0   \n",
      "4  Bought it with Retail Packaging, arrived legit...      5.0   \n",
      "\n",
      "                                  summary  unixReviewTime  reviewTime  \\\n",
      "0                              Four Stars      1406073600  2014-07-23   \n",
      "1                           MOAR SPACE!!!      1382659200  2013-10-25   \n",
      "2               nothing to really say....      1356220800  2012-12-23   \n",
      "3  Great buy at this price!!!  *** UPDATE      1384992000  2013-11-21   \n",
      "4                        best deal around      1373673600  2013-07-13   \n",
      "\n",
      "   day_diff  helpful_yes  total_vote  TopicID  \n",
      "0       138            0           0        6  \n",
      "1       409            0           0        7  \n",
      "2       715            0           0        9  \n",
      "3       382            0           0        4  \n",
      "4       513            0           0        3  \n"
     ]
    }
   ],
   "source": [
    "# Assign the most likely topic to each review\n",
    "df = df.dropna(subset=[\"reviewText\"])  # Drop rows with missing review text to align with dtm\n",
    "topic_distributions = lda.transform(dtm)  # Get topic probabilities for each review\n",
    "df[\"TopicID\"] = topic_distributions.argmax(axis=1)  # Most likely topic ID for each review\n",
    "\n",
    "# Check the updated dataframe\n",
    "print(df.head())"
   ]
  },
  {
   "cell_type": "markdown",
   "metadata": {
    "id": "Lo3PgACJ0byQ"
   },
   "source": [
    "I asked chatgpt to suggest product type based on keywords for each topic. Below is the result:\n",
    "\n",
    "**Summary Table:**\n",
    "- Topic 0\tMicroSD cards for phones\n",
    "- Topic 1\tFormatting SD cards\n",
    "- Topic 2\tMemory cards for Samsung devices\n",
    "- Topic 3\tSD cards for storing media files\n",
    "- Topic 4\tSandisk SD cards\n",
    "- Topic 5\tHigh-speed SD cards for tablets\n",
    "- Topic 6\tSD cards for GoPro cameras\n",
    "- Topic 7\tAffordable SD cards\n",
    "- Topic 8\tClass 10 SD cards\n",
    "- Topic 9\tHigh-speed SD cards for video recording"
   ]
  },
  {
   "cell_type": "code",
   "execution_count": 36,
   "metadata": {
    "id": "N-Qj4Sa62lCp"
   },
   "outputs": [],
   "source": [
    "product_dict = {\n",
    "    0: \"MicroSD cards for phones\",\n",
    "    1: \"Formatting SD cards\",\n",
    "    2: \"Memory cards for Samsung devices\",\n",
    "    3: \"PSD cards for storing media files\",\n",
    "    4: \"Sandisk SD cards\",\n",
    "    5: \"High-speed SD cards for tablets\",\n",
    "    6: \"SD cards for GoPro cameras\",\n",
    "    7: \"General SD cards\",\n",
    "    8: \"Class 10 SD cards\",\n",
    "    9: \"High-speed SD cards for video recording\",\n",
    "}"
   ]
  },
  {
   "cell_type": "code",
   "execution_count": 37,
   "metadata": {
    "colab": {
     "base_uri": "https://localhost:8080/"
    },
    "id": "eSfYdB6T3GcC",
    "outputId": "34182b46-24fb-4983-e741-f0d39db662d1"
   },
   "outputs": [
    {
     "name": "stdout",
     "output_type": "stream",
     "text": [
      "       reviewerID        asin  reviewerName helpful  \\\n",
      "0  A3SBTW3WS4IQSN  B007WTAJTO           NaN  [0, 0]   \n",
      "1  A18K1ODH1I2MVB  B007WTAJTO          0mie  [0, 0]   \n",
      "2  A2FII3I2MBMUIA  B007WTAJTO           1K3  [0, 0]   \n",
      "3   A3H99DFEG68SR  B007WTAJTO           1m2  [0, 0]   \n",
      "4  A375ZM4U047O79  B007WTAJTO  2&amp;1/2Men  [0, 0]   \n",
      "\n",
      "                                          reviewText  overall  \\\n",
      "0                                         No issues.      4.0   \n",
      "1  Purchased this for my device, it worked as adv...      5.0   \n",
      "2  it works as expected. I should have sprung for...      4.0   \n",
      "3  This think has worked out great.Had a diff. br...      5.0   \n",
      "4  Bought it with Retail Packaging, arrived legit...      5.0   \n",
      "\n",
      "                                  summary  unixReviewTime  reviewTime  \\\n",
      "0                              Four Stars      1406073600  2014-07-23   \n",
      "1                           MOAR SPACE!!!      1382659200  2013-10-25   \n",
      "2               nothing to really say....      1356220800  2012-12-23   \n",
      "3  Great buy at this price!!!  *** UPDATE      1384992000  2013-11-21   \n",
      "4                        best deal around      1373673600  2013-07-13   \n",
      "\n",
      "   day_diff  helpful_yes  total_vote  TopicID  \\\n",
      "0       138            0           0        6   \n",
      "1       409            0           0        7   \n",
      "2       715            0           0        9   \n",
      "3       382            0           0        4   \n",
      "4       513            0           0        3   \n",
      "\n",
      "                                   Product  \n",
      "0               SD cards for GoPro cameras  \n",
      "1                         General SD cards  \n",
      "2  High-speed SD cards for video recording  \n",
      "3                         Sandisk SD cards  \n",
      "4        PSD cards for storing media files  \n"
     ]
    }
   ],
   "source": [
    "# Map TopicID to Product names\n",
    "df[\"Product\"] = df[\"TopicID\"].map(product_dict)\n",
    "\n",
    "# Check the resulting dataframe\n",
    "print(df.head())"
   ]
  },
  {
   "cell_type": "code",
   "execution_count": 38,
   "metadata": {
    "colab": {
     "base_uri": "https://localhost:8080/",
     "height": 429
    },
    "id": "pvAs-xjb3PJg",
    "outputId": "d6309fd0-8882-4a5c-9a6d-9633c639d575"
   },
   "outputs": [
    {
     "data": {
      "text/plain": [
       "Product\n",
       "General SD cards                           1233\n",
       "MicroSD cards for phones                    546\n",
       "Sandisk SD cards                            535\n",
       "Class 10 SD cards                           516\n",
       "PSD cards for storing media files           467\n",
       "Memory cards for Samsung devices            457\n",
       "SD cards for GoPro cameras                  442\n",
       "High-speed SD cards for tablets             351\n",
       "Formatting SD cards                         192\n",
       "High-speed SD cards for video recording     176\n",
       "Name: count, dtype: int64"
      ]
     },
     "execution_count": 38,
     "metadata": {},
     "output_type": "execute_result"
    }
   ],
   "source": [
    "# Count rows for each TopicID\n",
    "topic_counts = df['Product'].value_counts().sort_values(ascending = 0)\n",
    "\n",
    "# Print the counts\n",
    "topic_counts"
   ]
  },
  {
   "cell_type": "markdown",
   "metadata": {
    "id": "vaqvXHCRzTGh"
   },
   "source": [
    "Then, we can use this grouping and analyze reviews by product using the RoBERTa method as demonstrated in the first section."
   ]
  }
 ],
 "metadata": {
  "colab": {
   "provenance": []
  },
  "kernelspec": {
   "display_name": "Python 3 (ipykernel)",
   "language": "python",
   "name": "python3"
  },
  "language_info": {
   "codemirror_mode": {
    "name": "ipython",
    "version": 3
   },
   "file_extension": ".py",
   "mimetype": "text/x-python",
   "name": "python",
   "nbconvert_exporter": "python",
   "pygments_lexer": "ipython3",
   "version": "3.12.2"
  },
  "widgets": {
   "application/vnd.jupyter.widget-state+json": {
    "00c60e4c685547f795b97dd609b96723": {
     "model_module": "@jupyter-widgets/controls",
     "model_module_version": "1.5.0",
     "model_name": "HBoxModel",
     "state": {
      "_dom_classes": [],
      "_model_module": "@jupyter-widgets/controls",
      "_model_module_version": "1.5.0",
      "_model_name": "HBoxModel",
      "_view_count": null,
      "_view_module": "@jupyter-widgets/controls",
      "_view_module_version": "1.5.0",
      "_view_name": "HBoxView",
      "box_style": "",
      "children": [
       "IPY_MODEL_b596e9fa1fdf45a0af365d84d923b983",
       "IPY_MODEL_6cf794540fd049e8ba1aef4a33b0f4f5",
       "IPY_MODEL_d749c42891f6489f8e5c01b3eb47d724"
      ],
      "layout": "IPY_MODEL_ac5da468e05841bda48f4fd7037d3c4a"
     }
    },
    "046088f1c6f4400986a3cd99afa0601f": {
     "model_module": "@jupyter-widgets/controls",
     "model_module_version": "1.5.0",
     "model_name": "HTMLModel",
     "state": {
      "_dom_classes": [],
      "_model_module": "@jupyter-widgets/controls",
      "_model_module_version": "1.5.0",
      "_model_name": "HTMLModel",
      "_view_count": null,
      "_view_module": "@jupyter-widgets/controls",
      "_view_module_version": "1.5.0",
      "_view_name": "HTMLView",
      "description": "",
      "description_tooltip": null,
      "layout": "IPY_MODEL_14bb4d032e4c405b913efd1a876f7356",
      "placeholder": "​",
      "style": "IPY_MODEL_095700c560c5417a9e591bfb8d0e2ccb",
      "value": " 747/747 [00:00&lt;00:00, 27.7kB/s]"
     }
    },
    "056c3ac4b30549348bd1c34019d27f93": {
     "model_module": "@jupyter-widgets/controls",
     "model_module_version": "1.5.0",
     "model_name": "HTMLModel",
     "state": {
      "_dom_classes": [],
      "_model_module": "@jupyter-widgets/controls",
      "_model_module_version": "1.5.0",
      "_model_name": "HTMLModel",
      "_view_count": null,
      "_view_module": "@jupyter-widgets/controls",
      "_view_module_version": "1.5.0",
      "_view_name": "HTMLView",
      "description": "",
      "description_tooltip": null,
      "layout": "IPY_MODEL_eae39d97ab0e43ea83fd4d7755f3dd04",
      "placeholder": "​",
      "style": "IPY_MODEL_c5f191fda2204d13a30f97fed2f4a886",
      "value": " 899k/899k [00:00&lt;00:00, 5.46MB/s]"
     }
    },
    "095700c560c5417a9e591bfb8d0e2ccb": {
     "model_module": "@jupyter-widgets/controls",
     "model_module_version": "1.5.0",
     "model_name": "DescriptionStyleModel",
     "state": {
      "_model_module": "@jupyter-widgets/controls",
      "_model_module_version": "1.5.0",
      "_model_name": "DescriptionStyleModel",
      "_view_count": null,
      "_view_module": "@jupyter-widgets/base",
      "_view_module_version": "1.2.0",
      "_view_name": "StyleView",
      "description_width": ""
     }
    },
    "0c7ab45aab0f4d8dbdf78425333a3536": {
     "model_module": "@jupyter-widgets/base",
     "model_module_version": "1.2.0",
     "model_name": "LayoutModel",
     "state": {
      "_model_module": "@jupyter-widgets/base",
      "_model_module_version": "1.2.0",
      "_model_name": "LayoutModel",
      "_view_count": null,
      "_view_module": "@jupyter-widgets/base",
      "_view_module_version": "1.2.0",
      "_view_name": "LayoutView",
      "align_content": null,
      "align_items": null,
      "align_self": null,
      "border": null,
      "bottom": null,
      "display": null,
      "flex": null,
      "flex_flow": null,
      "grid_area": null,
      "grid_auto_columns": null,
      "grid_auto_flow": null,
      "grid_auto_rows": null,
      "grid_column": null,
      "grid_gap": null,
      "grid_row": null,
      "grid_template_areas": null,
      "grid_template_columns": null,
      "grid_template_rows": null,
      "height": null,
      "justify_content": null,
      "justify_items": null,
      "left": null,
      "margin": null,
      "max_height": null,
      "max_width": null,
      "min_height": null,
      "min_width": null,
      "object_fit": null,
      "object_position": null,
      "order": null,
      "overflow": null,
      "overflow_x": null,
      "overflow_y": null,
      "padding": null,
      "right": null,
      "top": null,
      "visibility": null,
      "width": null
     }
    },
    "1020813466354c38ab89dcd8b11f45c6": {
     "model_module": "@jupyter-widgets/controls",
     "model_module_version": "1.5.0",
     "model_name": "HTMLModel",
     "state": {
      "_dom_classes": [],
      "_model_module": "@jupyter-widgets/controls",
      "_model_module_version": "1.5.0",
      "_model_name": "HTMLModel",
      "_view_count": null,
      "_view_module": "@jupyter-widgets/controls",
      "_view_module_version": "1.5.0",
      "_view_name": "HTMLView",
      "description": "",
      "description_tooltip": null,
      "layout": "IPY_MODEL_7aa12f98055f4f9eab3d7e55c6c227dc",
      "placeholder": "​",
      "style": "IPY_MODEL_bb91442429cd4b91a1c8fcb3655fc36f",
      "value": " 150/150 [00:00&lt;00:00, 6.29kB/s]"
     }
    },
    "14bb4d032e4c405b913efd1a876f7356": {
     "model_module": "@jupyter-widgets/base",
     "model_module_version": "1.2.0",
     "model_name": "LayoutModel",
     "state": {
      "_model_module": "@jupyter-widgets/base",
      "_model_module_version": "1.2.0",
      "_model_name": "LayoutModel",
      "_view_count": null,
      "_view_module": "@jupyter-widgets/base",
      "_view_module_version": "1.2.0",
      "_view_name": "LayoutView",
      "align_content": null,
      "align_items": null,
      "align_self": null,
      "border": null,
      "bottom": null,
      "display": null,
      "flex": null,
      "flex_flow": null,
      "grid_area": null,
      "grid_auto_columns": null,
      "grid_auto_flow": null,
      "grid_auto_rows": null,
      "grid_column": null,
      "grid_gap": null,
      "grid_row": null,
      "grid_template_areas": null,
      "grid_template_columns": null,
      "grid_template_rows": null,
      "height": null,
      "justify_content": null,
      "justify_items": null,
      "left": null,
      "margin": null,
      "max_height": null,
      "max_width": null,
      "min_height": null,
      "min_width": null,
      "object_fit": null,
      "object_position": null,
      "order": null,
      "overflow": null,
      "overflow_x": null,
      "overflow_y": null,
      "padding": null,
      "right": null,
      "top": null,
      "visibility": null,
      "width": null
     }
    },
    "14fd5fe70da74daa8053553c281176bd": {
     "model_module": "@jupyter-widgets/controls",
     "model_module_version": "1.5.0",
     "model_name": "ProgressStyleModel",
     "state": {
      "_model_module": "@jupyter-widgets/controls",
      "_model_module_version": "1.5.0",
      "_model_name": "ProgressStyleModel",
      "_view_count": null,
      "_view_module": "@jupyter-widgets/base",
      "_view_module_version": "1.2.0",
      "_view_name": "StyleView",
      "bar_color": null,
      "description_width": ""
     }
    },
    "19867f56a132434eb5af131a6a761abf": {
     "model_module": "@jupyter-widgets/controls",
     "model_module_version": "1.5.0",
     "model_name": "HTMLModel",
     "state": {
      "_dom_classes": [],
      "_model_module": "@jupyter-widgets/controls",
      "_model_module_version": "1.5.0",
      "_model_name": "HTMLModel",
      "_view_count": null,
      "_view_module": "@jupyter-widgets/controls",
      "_view_module_version": "1.5.0",
      "_view_name": "HTMLView",
      "description": "",
      "description_tooltip": null,
      "layout": "IPY_MODEL_e1ca739bd56e4ab4bf6422165920f8b6",
      "placeholder": "​",
      "style": "IPY_MODEL_281b5d07ff5e4782af1c0f3496609367",
      "value": "config.json: 100%"
     }
    },
    "1d27a4b60a5d476ea1e9775009da4eae": {
     "model_module": "@jupyter-widgets/base",
     "model_module_version": "1.2.0",
     "model_name": "LayoutModel",
     "state": {
      "_model_module": "@jupyter-widgets/base",
      "_model_module_version": "1.2.0",
      "_model_name": "LayoutModel",
      "_view_count": null,
      "_view_module": "@jupyter-widgets/base",
      "_view_module_version": "1.2.0",
      "_view_name": "LayoutView",
      "align_content": null,
      "align_items": null,
      "align_self": null,
      "border": null,
      "bottom": null,
      "display": null,
      "flex": null,
      "flex_flow": null,
      "grid_area": null,
      "grid_auto_columns": null,
      "grid_auto_flow": null,
      "grid_auto_rows": null,
      "grid_column": null,
      "grid_gap": null,
      "grid_row": null,
      "grid_template_areas": null,
      "grid_template_columns": null,
      "grid_template_rows": null,
      "height": null,
      "justify_content": null,
      "justify_items": null,
      "left": null,
      "margin": null,
      "max_height": null,
      "max_width": null,
      "min_height": null,
      "min_width": null,
      "object_fit": null,
      "object_position": null,
      "order": null,
      "overflow": null,
      "overflow_x": null,
      "overflow_y": null,
      "padding": null,
      "right": null,
      "top": null,
      "visibility": null,
      "width": null
     }
    },
    "1dafd91a8567420f9f05d7b67f39125e": {
     "model_module": "@jupyter-widgets/controls",
     "model_module_version": "1.5.0",
     "model_name": "DescriptionStyleModel",
     "state": {
      "_model_module": "@jupyter-widgets/controls",
      "_model_module_version": "1.5.0",
      "_model_name": "DescriptionStyleModel",
      "_view_count": null,
      "_view_module": "@jupyter-widgets/base",
      "_view_module_version": "1.2.0",
      "_view_name": "StyleView",
      "description_width": ""
     }
    },
    "1f4fc6c76b194fc4bca72704740debff": {
     "model_module": "@jupyter-widgets/controls",
     "model_module_version": "1.5.0",
     "model_name": "HBoxModel",
     "state": {
      "_dom_classes": [],
      "_model_module": "@jupyter-widgets/controls",
      "_model_module_version": "1.5.0",
      "_model_name": "HBoxModel",
      "_view_count": null,
      "_view_module": "@jupyter-widgets/controls",
      "_view_module_version": "1.5.0",
      "_view_name": "HBoxView",
      "box_style": "",
      "children": [
       "IPY_MODEL_5cc3aae1dde342afb2cd8835fe04761d",
       "IPY_MODEL_8a177a7aa2f2489d8ef96e2bad92dc1d",
       "IPY_MODEL_056c3ac4b30549348bd1c34019d27f93"
      ],
      "layout": "IPY_MODEL_acd3b3181592464c93190b12bc6c2328"
     }
    },
    "1fc0845f693d4357a7f4bcbc77a1cd3a": {
     "model_module": "@jupyter-widgets/controls",
     "model_module_version": "1.5.0",
     "model_name": "FloatProgressModel",
     "state": {
      "_dom_classes": [],
      "_model_module": "@jupyter-widgets/controls",
      "_model_module_version": "1.5.0",
      "_model_name": "FloatProgressModel",
      "_view_count": null,
      "_view_module": "@jupyter-widgets/controls",
      "_view_module_version": "1.5.0",
      "_view_name": "ProgressView",
      "bar_style": "success",
      "description": "",
      "description_tooltip": null,
      "layout": "IPY_MODEL_f88ebc4649cd438381aa9fc2317b8f24",
      "max": 747,
      "min": 0,
      "orientation": "horizontal",
      "style": "IPY_MODEL_14fd5fe70da74daa8053553c281176bd",
      "value": 747
     }
    },
    "235a42d537b6437e9c7c90b1ed7d43da": {
     "model_module": "@jupyter-widgets/controls",
     "model_module_version": "1.5.0",
     "model_name": "FloatProgressModel",
     "state": {
      "_dom_classes": [],
      "_model_module": "@jupyter-widgets/controls",
      "_model_module_version": "1.5.0",
      "_model_name": "FloatProgressModel",
      "_view_count": null,
      "_view_module": "@jupyter-widgets/controls",
      "_view_module_version": "1.5.0",
      "_view_name": "ProgressView",
      "bar_style": "success",
      "description": "",
      "description_tooltip": null,
      "layout": "IPY_MODEL_f3d54b8722e147bebefc2a3f24d6a1ed",
      "max": 498679497,
      "min": 0,
      "orientation": "horizontal",
      "style": "IPY_MODEL_72467868552f4d6f85c124007543846a",
      "value": 498679497
     }
    },
    "263c04a12af54b62b52d66d76f2e797e": {
     "model_module": "@jupyter-widgets/base",
     "model_module_version": "1.2.0",
     "model_name": "LayoutModel",
     "state": {
      "_model_module": "@jupyter-widgets/base",
      "_model_module_version": "1.2.0",
      "_model_name": "LayoutModel",
      "_view_count": null,
      "_view_module": "@jupyter-widgets/base",
      "_view_module_version": "1.2.0",
      "_view_name": "LayoutView",
      "align_content": null,
      "align_items": null,
      "align_self": null,
      "border": null,
      "bottom": null,
      "display": null,
      "flex": null,
      "flex_flow": null,
      "grid_area": null,
      "grid_auto_columns": null,
      "grid_auto_flow": null,
      "grid_auto_rows": null,
      "grid_column": null,
      "grid_gap": null,
      "grid_row": null,
      "grid_template_areas": null,
      "grid_template_columns": null,
      "grid_template_rows": null,
      "height": null,
      "justify_content": null,
      "justify_items": null,
      "left": null,
      "margin": null,
      "max_height": null,
      "max_width": null,
      "min_height": null,
      "min_width": null,
      "object_fit": null,
      "object_position": null,
      "order": null,
      "overflow": null,
      "overflow_x": null,
      "overflow_y": null,
      "padding": null,
      "right": null,
      "top": null,
      "visibility": null,
      "width": null
     }
    },
    "2783922e8ebd44d4baebad0082537e95": {
     "model_module": "@jupyter-widgets/controls",
     "model_module_version": "1.5.0",
     "model_name": "HTMLModel",
     "state": {
      "_dom_classes": [],
      "_model_module": "@jupyter-widgets/controls",
      "_model_module_version": "1.5.0",
      "_model_name": "HTMLModel",
      "_view_count": null,
      "_view_module": "@jupyter-widgets/controls",
      "_view_module_version": "1.5.0",
      "_view_name": "HTMLView",
      "description": "",
      "description_tooltip": null,
      "layout": "IPY_MODEL_4b298083001040b79be69c5c404d0056",
      "placeholder": "​",
      "style": "IPY_MODEL_1dafd91a8567420f9f05d7b67f39125e",
      "value": "pytorch_model.bin: 100%"
     }
    },
    "281b5d07ff5e4782af1c0f3496609367": {
     "model_module": "@jupyter-widgets/controls",
     "model_module_version": "1.5.0",
     "model_name": "DescriptionStyleModel",
     "state": {
      "_model_module": "@jupyter-widgets/controls",
      "_model_module_version": "1.5.0",
      "_model_name": "DescriptionStyleModel",
      "_view_count": null,
      "_view_module": "@jupyter-widgets/base",
      "_view_module_version": "1.2.0",
      "_view_name": "StyleView",
      "description_width": ""
     }
    },
    "2dcea1d72aac4978ab0af234a94818a0": {
     "model_module": "@jupyter-widgets/controls",
     "model_module_version": "1.5.0",
     "model_name": "DescriptionStyleModel",
     "state": {
      "_model_module": "@jupyter-widgets/controls",
      "_model_module_version": "1.5.0",
      "_model_name": "DescriptionStyleModel",
      "_view_count": null,
      "_view_module": "@jupyter-widgets/base",
      "_view_module_version": "1.2.0",
      "_view_name": "StyleView",
      "description_width": ""
     }
    },
    "30b98489a2e34bd4a7ff0172586667ae": {
     "model_module": "@jupyter-widgets/base",
     "model_module_version": "1.2.0",
     "model_name": "LayoutModel",
     "state": {
      "_model_module": "@jupyter-widgets/base",
      "_model_module_version": "1.2.0",
      "_model_name": "LayoutModel",
      "_view_count": null,
      "_view_module": "@jupyter-widgets/base",
      "_view_module_version": "1.2.0",
      "_view_name": "LayoutView",
      "align_content": null,
      "align_items": null,
      "align_self": null,
      "border": null,
      "bottom": null,
      "display": null,
      "flex": null,
      "flex_flow": null,
      "grid_area": null,
      "grid_auto_columns": null,
      "grid_auto_flow": null,
      "grid_auto_rows": null,
      "grid_column": null,
      "grid_gap": null,
      "grid_row": null,
      "grid_template_areas": null,
      "grid_template_columns": null,
      "grid_template_rows": null,
      "height": null,
      "justify_content": null,
      "justify_items": null,
      "left": null,
      "margin": null,
      "max_height": null,
      "max_width": null,
      "min_height": null,
      "min_width": null,
      "object_fit": null,
      "object_position": null,
      "order": null,
      "overflow": null,
      "overflow_x": null,
      "overflow_y": null,
      "padding": null,
      "right": null,
      "top": null,
      "visibility": null,
      "width": null
     }
    },
    "323714d3b099449aa4a9694c541bb68a": {
     "model_module": "@jupyter-widgets/base",
     "model_module_version": "1.2.0",
     "model_name": "LayoutModel",
     "state": {
      "_model_module": "@jupyter-widgets/base",
      "_model_module_version": "1.2.0",
      "_model_name": "LayoutModel",
      "_view_count": null,
      "_view_module": "@jupyter-widgets/base",
      "_view_module_version": "1.2.0",
      "_view_name": "LayoutView",
      "align_content": null,
      "align_items": null,
      "align_self": null,
      "border": null,
      "bottom": null,
      "display": null,
      "flex": null,
      "flex_flow": null,
      "grid_area": null,
      "grid_auto_columns": null,
      "grid_auto_flow": null,
      "grid_auto_rows": null,
      "grid_column": null,
      "grid_gap": null,
      "grid_row": null,
      "grid_template_areas": null,
      "grid_template_columns": null,
      "grid_template_rows": null,
      "height": null,
      "justify_content": null,
      "justify_items": null,
      "left": null,
      "margin": null,
      "max_height": null,
      "max_width": null,
      "min_height": null,
      "min_width": null,
      "object_fit": null,
      "object_position": null,
      "order": null,
      "overflow": null,
      "overflow_x": null,
      "overflow_y": null,
      "padding": null,
      "right": null,
      "top": null,
      "visibility": null,
      "width": null
     }
    },
    "3919785aa2194b5cb18a0fc3cf423143": {
     "model_module": "@jupyter-widgets/controls",
     "model_module_version": "1.5.0",
     "model_name": "DescriptionStyleModel",
     "state": {
      "_model_module": "@jupyter-widgets/controls",
      "_model_module_version": "1.5.0",
      "_model_name": "DescriptionStyleModel",
      "_view_count": null,
      "_view_module": "@jupyter-widgets/base",
      "_view_module_version": "1.2.0",
      "_view_name": "StyleView",
      "description_width": ""
     }
    },
    "47819c6c29f54e4199e7c87255a66be8": {
     "model_module": "@jupyter-widgets/controls",
     "model_module_version": "1.5.0",
     "model_name": "HBoxModel",
     "state": {
      "_dom_classes": [],
      "_model_module": "@jupyter-widgets/controls",
      "_model_module_version": "1.5.0",
      "_model_name": "HBoxModel",
      "_view_count": null,
      "_view_module": "@jupyter-widgets/controls",
      "_view_module_version": "1.5.0",
      "_view_name": "HBoxView",
      "box_style": "",
      "children": [
       "IPY_MODEL_19867f56a132434eb5af131a6a761abf",
       "IPY_MODEL_1fc0845f693d4357a7f4bcbc77a1cd3a",
       "IPY_MODEL_046088f1c6f4400986a3cd99afa0601f"
      ],
      "layout": "IPY_MODEL_f91cbb5b40f54a4eaaa0b5cfe2f02fef"
     }
    },
    "4b298083001040b79be69c5c404d0056": {
     "model_module": "@jupyter-widgets/base",
     "model_module_version": "1.2.0",
     "model_name": "LayoutModel",
     "state": {
      "_model_module": "@jupyter-widgets/base",
      "_model_module_version": "1.2.0",
      "_model_name": "LayoutModel",
      "_view_count": null,
      "_view_module": "@jupyter-widgets/base",
      "_view_module_version": "1.2.0",
      "_view_name": "LayoutView",
      "align_content": null,
      "align_items": null,
      "align_self": null,
      "border": null,
      "bottom": null,
      "display": null,
      "flex": null,
      "flex_flow": null,
      "grid_area": null,
      "grid_auto_columns": null,
      "grid_auto_flow": null,
      "grid_auto_rows": null,
      "grid_column": null,
      "grid_gap": null,
      "grid_row": null,
      "grid_template_areas": null,
      "grid_template_columns": null,
      "grid_template_rows": null,
      "height": null,
      "justify_content": null,
      "justify_items": null,
      "left": null,
      "margin": null,
      "max_height": null,
      "max_width": null,
      "min_height": null,
      "min_width": null,
      "object_fit": null,
      "object_position": null,
      "order": null,
      "overflow": null,
      "overflow_x": null,
      "overflow_y": null,
      "padding": null,
      "right": null,
      "top": null,
      "visibility": null,
      "width": null
     }
    },
    "4d4d38ac09e04631af15a77b9673a312": {
     "model_module": "@jupyter-widgets/controls",
     "model_module_version": "1.5.0",
     "model_name": "DescriptionStyleModel",
     "state": {
      "_model_module": "@jupyter-widgets/controls",
      "_model_module_version": "1.5.0",
      "_model_name": "DescriptionStyleModel",
      "_view_count": null,
      "_view_module": "@jupyter-widgets/base",
      "_view_module_version": "1.2.0",
      "_view_name": "StyleView",
      "description_width": ""
     }
    },
    "4f5a638127ad49fd9d1d792338592639": {
     "model_module": "@jupyter-widgets/base",
     "model_module_version": "1.2.0",
     "model_name": "LayoutModel",
     "state": {
      "_model_module": "@jupyter-widgets/base",
      "_model_module_version": "1.2.0",
      "_model_name": "LayoutModel",
      "_view_count": null,
      "_view_module": "@jupyter-widgets/base",
      "_view_module_version": "1.2.0",
      "_view_name": "LayoutView",
      "align_content": null,
      "align_items": null,
      "align_self": null,
      "border": null,
      "bottom": null,
      "display": null,
      "flex": null,
      "flex_flow": null,
      "grid_area": null,
      "grid_auto_columns": null,
      "grid_auto_flow": null,
      "grid_auto_rows": null,
      "grid_column": null,
      "grid_gap": null,
      "grid_row": null,
      "grid_template_areas": null,
      "grid_template_columns": null,
      "grid_template_rows": null,
      "height": null,
      "justify_content": null,
      "justify_items": null,
      "left": null,
      "margin": null,
      "max_height": null,
      "max_width": null,
      "min_height": null,
      "min_width": null,
      "object_fit": null,
      "object_position": null,
      "order": null,
      "overflow": null,
      "overflow_x": null,
      "overflow_y": null,
      "padding": null,
      "right": null,
      "top": null,
      "visibility": null,
      "width": null
     }
    },
    "52500f8218614176806dbd27bf974f76": {
     "model_module": "@jupyter-widgets/controls",
     "model_module_version": "1.5.0",
     "model_name": "ProgressStyleModel",
     "state": {
      "_model_module": "@jupyter-widgets/controls",
      "_model_module_version": "1.5.0",
      "_model_name": "ProgressStyleModel",
      "_view_count": null,
      "_view_module": "@jupyter-widgets/base",
      "_view_module_version": "1.2.0",
      "_view_name": "StyleView",
      "bar_color": null,
      "description_width": ""
     }
    },
    "54282e6c7c52441c892682fd3ef3af42": {
     "model_module": "@jupyter-widgets/controls",
     "model_module_version": "1.5.0",
     "model_name": "HBoxModel",
     "state": {
      "_dom_classes": [],
      "_model_module": "@jupyter-widgets/controls",
      "_model_module_version": "1.5.0",
      "_model_name": "HBoxModel",
      "_view_count": null,
      "_view_module": "@jupyter-widgets/controls",
      "_view_module_version": "1.5.0",
      "_view_name": "HBoxView",
      "box_style": "",
      "children": [
       "IPY_MODEL_2783922e8ebd44d4baebad0082537e95",
       "IPY_MODEL_235a42d537b6437e9c7c90b1ed7d43da",
       "IPY_MODEL_60e371d2f7b54a8ca564833e58c43b10"
      ],
      "layout": "IPY_MODEL_ba144ada09d94feeb761a422dc024947"
     }
    },
    "56fc8822b79b46af92849e712fae5410": {
     "model_module": "@jupyter-widgets/base",
     "model_module_version": "1.2.0",
     "model_name": "LayoutModel",
     "state": {
      "_model_module": "@jupyter-widgets/base",
      "_model_module_version": "1.2.0",
      "_model_name": "LayoutModel",
      "_view_count": null,
      "_view_module": "@jupyter-widgets/base",
      "_view_module_version": "1.2.0",
      "_view_name": "LayoutView",
      "align_content": null,
      "align_items": null,
      "align_self": null,
      "border": null,
      "bottom": null,
      "display": null,
      "flex": null,
      "flex_flow": null,
      "grid_area": null,
      "grid_auto_columns": null,
      "grid_auto_flow": null,
      "grid_auto_rows": null,
      "grid_column": null,
      "grid_gap": null,
      "grid_row": null,
      "grid_template_areas": null,
      "grid_template_columns": null,
      "grid_template_rows": null,
      "height": null,
      "justify_content": null,
      "justify_items": null,
      "left": null,
      "margin": null,
      "max_height": null,
      "max_width": null,
      "min_height": null,
      "min_width": null,
      "object_fit": null,
      "object_position": null,
      "order": null,
      "overflow": null,
      "overflow_x": null,
      "overflow_y": null,
      "padding": null,
      "right": null,
      "top": null,
      "visibility": null,
      "width": null
     }
    },
    "5cc3aae1dde342afb2cd8835fe04761d": {
     "model_module": "@jupyter-widgets/controls",
     "model_module_version": "1.5.0",
     "model_name": "HTMLModel",
     "state": {
      "_dom_classes": [],
      "_model_module": "@jupyter-widgets/controls",
      "_model_module_version": "1.5.0",
      "_model_name": "HTMLModel",
      "_view_count": null,
      "_view_module": "@jupyter-widgets/controls",
      "_view_module_version": "1.5.0",
      "_view_name": "HTMLView",
      "description": "",
      "description_tooltip": null,
      "layout": "IPY_MODEL_9fd39ee64572474caf74fd50f527a9a9",
      "placeholder": "​",
      "style": "IPY_MODEL_3919785aa2194b5cb18a0fc3cf423143",
      "value": "vocab.json: 100%"
     }
    },
    "60e371d2f7b54a8ca564833e58c43b10": {
     "model_module": "@jupyter-widgets/controls",
     "model_module_version": "1.5.0",
     "model_name": "HTMLModel",
     "state": {
      "_dom_classes": [],
      "_model_module": "@jupyter-widgets/controls",
      "_model_module_version": "1.5.0",
      "_model_name": "HTMLModel",
      "_view_count": null,
      "_view_module": "@jupyter-widgets/controls",
      "_view_module_version": "1.5.0",
      "_view_name": "HTMLView",
      "description": "",
      "description_tooltip": null,
      "layout": "IPY_MODEL_7932f22dbe844e93a3009e448057e2a8",
      "placeholder": "​",
      "style": "IPY_MODEL_ead4f19181aa4917a583922a792c1187",
      "value": " 499M/499M [00:04&lt;00:00, 84.0MB/s]"
     }
    },
    "6cf794540fd049e8ba1aef4a33b0f4f5": {
     "model_module": "@jupyter-widgets/controls",
     "model_module_version": "1.5.0",
     "model_name": "FloatProgressModel",
     "state": {
      "_dom_classes": [],
      "_model_module": "@jupyter-widgets/controls",
      "_model_module_version": "1.5.0",
      "_model_name": "FloatProgressModel",
      "_view_count": null,
      "_view_module": "@jupyter-widgets/controls",
      "_view_module_version": "1.5.0",
      "_view_name": "ProgressView",
      "bar_style": "success",
      "description": "",
      "description_tooltip": null,
      "layout": "IPY_MODEL_263c04a12af54b62b52d66d76f2e797e",
      "max": 4915,
      "min": 0,
      "orientation": "horizontal",
      "style": "IPY_MODEL_c577e42982244598913f0be61e6deeaa",
      "value": 4915
     }
    },
    "72467868552f4d6f85c124007543846a": {
     "model_module": "@jupyter-widgets/controls",
     "model_module_version": "1.5.0",
     "model_name": "ProgressStyleModel",
     "state": {
      "_model_module": "@jupyter-widgets/controls",
      "_model_module_version": "1.5.0",
      "_model_name": "ProgressStyleModel",
      "_view_count": null,
      "_view_module": "@jupyter-widgets/base",
      "_view_module_version": "1.2.0",
      "_view_name": "StyleView",
      "bar_color": null,
      "description_width": ""
     }
    },
    "742e2b6d7c04480bb94699f66e62ffd4": {
     "model_module": "@jupyter-widgets/controls",
     "model_module_version": "1.5.0",
     "model_name": "HBoxModel",
     "state": {
      "_dom_classes": [],
      "_model_module": "@jupyter-widgets/controls",
      "_model_module_version": "1.5.0",
      "_model_name": "HBoxModel",
      "_view_count": null,
      "_view_module": "@jupyter-widgets/controls",
      "_view_module_version": "1.5.0",
      "_view_name": "HBoxView",
      "box_style": "",
      "children": [
       "IPY_MODEL_d548b2c5bc284d36b5c2268b3418f2ac",
       "IPY_MODEL_a83114042989463e940036846e77e071",
       "IPY_MODEL_d81bd2878b654fa5ae6514108627b4ee"
      ],
      "layout": "IPY_MODEL_4f5a638127ad49fd9d1d792338592639"
     }
    },
    "745e8b4b6dc540808948a15b76c4f11d": {
     "model_module": "@jupyter-widgets/controls",
     "model_module_version": "1.5.0",
     "model_name": "DescriptionStyleModel",
     "state": {
      "_model_module": "@jupyter-widgets/controls",
      "_model_module_version": "1.5.0",
      "_model_name": "DescriptionStyleModel",
      "_view_count": null,
      "_view_module": "@jupyter-widgets/base",
      "_view_module_version": "1.2.0",
      "_view_name": "StyleView",
      "description_width": ""
     }
    },
    "7932f22dbe844e93a3009e448057e2a8": {
     "model_module": "@jupyter-widgets/base",
     "model_module_version": "1.2.0",
     "model_name": "LayoutModel",
     "state": {
      "_model_module": "@jupyter-widgets/base",
      "_model_module_version": "1.2.0",
      "_model_name": "LayoutModel",
      "_view_count": null,
      "_view_module": "@jupyter-widgets/base",
      "_view_module_version": "1.2.0",
      "_view_name": "LayoutView",
      "align_content": null,
      "align_items": null,
      "align_self": null,
      "border": null,
      "bottom": null,
      "display": null,
      "flex": null,
      "flex_flow": null,
      "grid_area": null,
      "grid_auto_columns": null,
      "grid_auto_flow": null,
      "grid_auto_rows": null,
      "grid_column": null,
      "grid_gap": null,
      "grid_row": null,
      "grid_template_areas": null,
      "grid_template_columns": null,
      "grid_template_rows": null,
      "height": null,
      "justify_content": null,
      "justify_items": null,
      "left": null,
      "margin": null,
      "max_height": null,
      "max_width": null,
      "min_height": null,
      "min_width": null,
      "object_fit": null,
      "object_position": null,
      "order": null,
      "overflow": null,
      "overflow_x": null,
      "overflow_y": null,
      "padding": null,
      "right": null,
      "top": null,
      "visibility": null,
      "width": null
     }
    },
    "7aa12f98055f4f9eab3d7e55c6c227dc": {
     "model_module": "@jupyter-widgets/base",
     "model_module_version": "1.2.0",
     "model_name": "LayoutModel",
     "state": {
      "_model_module": "@jupyter-widgets/base",
      "_model_module_version": "1.2.0",
      "_model_name": "LayoutModel",
      "_view_count": null,
      "_view_module": "@jupyter-widgets/base",
      "_view_module_version": "1.2.0",
      "_view_name": "LayoutView",
      "align_content": null,
      "align_items": null,
      "align_self": null,
      "border": null,
      "bottom": null,
      "display": null,
      "flex": null,
      "flex_flow": null,
      "grid_area": null,
      "grid_auto_columns": null,
      "grid_auto_flow": null,
      "grid_auto_rows": null,
      "grid_column": null,
      "grid_gap": null,
      "grid_row": null,
      "grid_template_areas": null,
      "grid_template_columns": null,
      "grid_template_rows": null,
      "height": null,
      "justify_content": null,
      "justify_items": null,
      "left": null,
      "margin": null,
      "max_height": null,
      "max_width": null,
      "min_height": null,
      "min_width": null,
      "object_fit": null,
      "object_position": null,
      "order": null,
      "overflow": null,
      "overflow_x": null,
      "overflow_y": null,
      "padding": null,
      "right": null,
      "top": null,
      "visibility": null,
      "width": null
     }
    },
    "7b81ec4ead524642a966ef8d59769a3e": {
     "model_module": "@jupyter-widgets/controls",
     "model_module_version": "1.5.0",
     "model_name": "DescriptionStyleModel",
     "state": {
      "_model_module": "@jupyter-widgets/controls",
      "_model_module_version": "1.5.0",
      "_model_name": "DescriptionStyleModel",
      "_view_count": null,
      "_view_module": "@jupyter-widgets/base",
      "_view_module_version": "1.2.0",
      "_view_name": "StyleView",
      "description_width": ""
     }
    },
    "7bf9ec182ec84bb193121590ccf34b5a": {
     "model_module": "@jupyter-widgets/controls",
     "model_module_version": "1.5.0",
     "model_name": "FloatProgressModel",
     "state": {
      "_dom_classes": [],
      "_model_module": "@jupyter-widgets/controls",
      "_model_module_version": "1.5.0",
      "_model_name": "FloatProgressModel",
      "_view_count": null,
      "_view_module": "@jupyter-widgets/controls",
      "_view_module_version": "1.5.0",
      "_view_name": "ProgressView",
      "bar_style": "success",
      "description": "",
      "description_tooltip": null,
      "layout": "IPY_MODEL_30b98489a2e34bd4a7ff0172586667ae",
      "max": 150,
      "min": 0,
      "orientation": "horizontal",
      "style": "IPY_MODEL_986fa89cdf534ce1b3d0adef5d3226d0",
      "value": 150
     }
    },
    "8301aaee6312421cbb4c9f16101aaf1b": {
     "model_module": "@jupyter-widgets/controls",
     "model_module_version": "1.5.0",
     "model_name": "HTMLModel",
     "state": {
      "_dom_classes": [],
      "_model_module": "@jupyter-widgets/controls",
      "_model_module_version": "1.5.0",
      "_model_name": "HTMLModel",
      "_view_count": null,
      "_view_module": "@jupyter-widgets/controls",
      "_view_module_version": "1.5.0",
      "_view_name": "HTMLView",
      "description": "",
      "description_tooltip": null,
      "layout": "IPY_MODEL_d81de3fa96c44a6ea9b7e34d30edeebc",
      "placeholder": "​",
      "style": "IPY_MODEL_2dcea1d72aac4978ab0af234a94818a0",
      "value": "merges.txt: 100%"
     }
    },
    "84e1c36fc51648789289e43596f2a1a8": {
     "model_module": "@jupyter-widgets/controls",
     "model_module_version": "1.5.0",
     "model_name": "ProgressStyleModel",
     "state": {
      "_model_module": "@jupyter-widgets/controls",
      "_model_module_version": "1.5.0",
      "_model_name": "ProgressStyleModel",
      "_view_count": null,
      "_view_module": "@jupyter-widgets/base",
      "_view_module_version": "1.2.0",
      "_view_name": "StyleView",
      "bar_color": null,
      "description_width": ""
     }
    },
    "8a177a7aa2f2489d8ef96e2bad92dc1d": {
     "model_module": "@jupyter-widgets/controls",
     "model_module_version": "1.5.0",
     "model_name": "FloatProgressModel",
     "state": {
      "_dom_classes": [],
      "_model_module": "@jupyter-widgets/controls",
      "_model_module_version": "1.5.0",
      "_model_name": "FloatProgressModel",
      "_view_count": null,
      "_view_module": "@jupyter-widgets/controls",
      "_view_module_version": "1.5.0",
      "_view_name": "ProgressView",
      "bar_style": "success",
      "description": "",
      "description_tooltip": null,
      "layout": "IPY_MODEL_1d27a4b60a5d476ea1e9775009da4eae",
      "max": 898822,
      "min": 0,
      "orientation": "horizontal",
      "style": "IPY_MODEL_a85777766b2f4cf7989aad348d4b7661",
      "value": 898822
     }
    },
    "93bd3415b6184e859ef63116fd7eeeb4": {
     "model_module": "@jupyter-widgets/controls",
     "model_module_version": "1.5.0",
     "model_name": "HTMLModel",
     "state": {
      "_dom_classes": [],
      "_model_module": "@jupyter-widgets/controls",
      "_model_module_version": "1.5.0",
      "_model_name": "HTMLModel",
      "_view_count": null,
      "_view_module": "@jupyter-widgets/controls",
      "_view_module_version": "1.5.0",
      "_view_name": "HTMLView",
      "description": "",
      "description_tooltip": null,
      "layout": "IPY_MODEL_ada23fc2aa864232a60dad6f6e1d8c9d",
      "placeholder": "​",
      "style": "IPY_MODEL_f43986d814d244b29afb3c07427e3180",
      "value": " 456k/456k [00:00&lt;00:00, 13.1MB/s]"
     }
    },
    "94331230a7464b91963f583095a6c25a": {
     "model_module": "@jupyter-widgets/controls",
     "model_module_version": "1.5.0",
     "model_name": "HTMLModel",
     "state": {
      "_dom_classes": [],
      "_model_module": "@jupyter-widgets/controls",
      "_model_module_version": "1.5.0",
      "_model_name": "HTMLModel",
      "_view_count": null,
      "_view_module": "@jupyter-widgets/controls",
      "_view_module_version": "1.5.0",
      "_view_name": "HTMLView",
      "description": "",
      "description_tooltip": null,
      "layout": "IPY_MODEL_9e6b503ad3484d9385b0ea6189862374",
      "placeholder": "​",
      "style": "IPY_MODEL_7b81ec4ead524642a966ef8d59769a3e",
      "value": "special_tokens_map.json: 100%"
     }
    },
    "94bce5ce7ce244a4a21623e1c2873710": {
     "model_module": "@jupyter-widgets/base",
     "model_module_version": "1.2.0",
     "model_name": "LayoutModel",
     "state": {
      "_model_module": "@jupyter-widgets/base",
      "_model_module_version": "1.2.0",
      "_model_name": "LayoutModel",
      "_view_count": null,
      "_view_module": "@jupyter-widgets/base",
      "_view_module_version": "1.2.0",
      "_view_name": "LayoutView",
      "align_content": null,
      "align_items": null,
      "align_self": null,
      "border": null,
      "bottom": null,
      "display": null,
      "flex": null,
      "flex_flow": null,
      "grid_area": null,
      "grid_auto_columns": null,
      "grid_auto_flow": null,
      "grid_auto_rows": null,
      "grid_column": null,
      "grid_gap": null,
      "grid_row": null,
      "grid_template_areas": null,
      "grid_template_columns": null,
      "grid_template_rows": null,
      "height": null,
      "justify_content": null,
      "justify_items": null,
      "left": null,
      "margin": null,
      "max_height": null,
      "max_width": null,
      "min_height": null,
      "min_width": null,
      "object_fit": null,
      "object_position": null,
      "order": null,
      "overflow": null,
      "overflow_x": null,
      "overflow_y": null,
      "padding": null,
      "right": null,
      "top": null,
      "visibility": null,
      "width": null
     }
    },
    "986fa89cdf534ce1b3d0adef5d3226d0": {
     "model_module": "@jupyter-widgets/controls",
     "model_module_version": "1.5.0",
     "model_name": "ProgressStyleModel",
     "state": {
      "_model_module": "@jupyter-widgets/controls",
      "_model_module_version": "1.5.0",
      "_model_name": "ProgressStyleModel",
      "_view_count": null,
      "_view_module": "@jupyter-widgets/base",
      "_view_module_version": "1.2.0",
      "_view_name": "StyleView",
      "bar_color": null,
      "description_width": ""
     }
    },
    "99ebdbd6c13d4d3e9d3db9a410677637": {
     "model_module": "@jupyter-widgets/controls",
     "model_module_version": "1.5.0",
     "model_name": "HBoxModel",
     "state": {
      "_dom_classes": [],
      "_model_module": "@jupyter-widgets/controls",
      "_model_module_version": "1.5.0",
      "_model_name": "HBoxModel",
      "_view_count": null,
      "_view_module": "@jupyter-widgets/controls",
      "_view_module_version": "1.5.0",
      "_view_name": "HBoxView",
      "box_style": "",
      "children": [
       "IPY_MODEL_94331230a7464b91963f583095a6c25a",
       "IPY_MODEL_7bf9ec182ec84bb193121590ccf34b5a",
       "IPY_MODEL_1020813466354c38ab89dcd8b11f45c6"
      ],
      "layout": "IPY_MODEL_323714d3b099449aa4a9694c541bb68a"
     }
    },
    "9e6b503ad3484d9385b0ea6189862374": {
     "model_module": "@jupyter-widgets/base",
     "model_module_version": "1.2.0",
     "model_name": "LayoutModel",
     "state": {
      "_model_module": "@jupyter-widgets/base",
      "_model_module_version": "1.2.0",
      "_model_name": "LayoutModel",
      "_view_count": null,
      "_view_module": "@jupyter-widgets/base",
      "_view_module_version": "1.2.0",
      "_view_name": "LayoutView",
      "align_content": null,
      "align_items": null,
      "align_self": null,
      "border": null,
      "bottom": null,
      "display": null,
      "flex": null,
      "flex_flow": null,
      "grid_area": null,
      "grid_auto_columns": null,
      "grid_auto_flow": null,
      "grid_auto_rows": null,
      "grid_column": null,
      "grid_gap": null,
      "grid_row": null,
      "grid_template_areas": null,
      "grid_template_columns": null,
      "grid_template_rows": null,
      "height": null,
      "justify_content": null,
      "justify_items": null,
      "left": null,
      "margin": null,
      "max_height": null,
      "max_width": null,
      "min_height": null,
      "min_width": null,
      "object_fit": null,
      "object_position": null,
      "order": null,
      "overflow": null,
      "overflow_x": null,
      "overflow_y": null,
      "padding": null,
      "right": null,
      "top": null,
      "visibility": null,
      "width": null
     }
    },
    "9fd39ee64572474caf74fd50f527a9a9": {
     "model_module": "@jupyter-widgets/base",
     "model_module_version": "1.2.0",
     "model_name": "LayoutModel",
     "state": {
      "_model_module": "@jupyter-widgets/base",
      "_model_module_version": "1.2.0",
      "_model_name": "LayoutModel",
      "_view_count": null,
      "_view_module": "@jupyter-widgets/base",
      "_view_module_version": "1.2.0",
      "_view_name": "LayoutView",
      "align_content": null,
      "align_items": null,
      "align_self": null,
      "border": null,
      "bottom": null,
      "display": null,
      "flex": null,
      "flex_flow": null,
      "grid_area": null,
      "grid_auto_columns": null,
      "grid_auto_flow": null,
      "grid_auto_rows": null,
      "grid_column": null,
      "grid_gap": null,
      "grid_row": null,
      "grid_template_areas": null,
      "grid_template_columns": null,
      "grid_template_rows": null,
      "height": null,
      "justify_content": null,
      "justify_items": null,
      "left": null,
      "margin": null,
      "max_height": null,
      "max_width": null,
      "min_height": null,
      "min_width": null,
      "object_fit": null,
      "object_position": null,
      "order": null,
      "overflow": null,
      "overflow_x": null,
      "overflow_y": null,
      "padding": null,
      "right": null,
      "top": null,
      "visibility": null,
      "width": null
     }
    },
    "a60be5b849ae42ce83686e1da2487edc": {
     "model_module": "@jupyter-widgets/controls",
     "model_module_version": "1.5.0",
     "model_name": "FloatProgressModel",
     "state": {
      "_dom_classes": [],
      "_model_module": "@jupyter-widgets/controls",
      "_model_module_version": "1.5.0",
      "_model_name": "FloatProgressModel",
      "_view_count": null,
      "_view_module": "@jupyter-widgets/controls",
      "_view_module_version": "1.5.0",
      "_view_name": "ProgressView",
      "bar_style": "success",
      "description": "",
      "description_tooltip": null,
      "layout": "IPY_MODEL_b1f426e08c724b0ba287a06a9516cfe1",
      "max": 456318,
      "min": 0,
      "orientation": "horizontal",
      "style": "IPY_MODEL_52500f8218614176806dbd27bf974f76",
      "value": 456318
     }
    },
    "a83114042989463e940036846e77e071": {
     "model_module": "@jupyter-widgets/controls",
     "model_module_version": "1.5.0",
     "model_name": "FloatProgressModel",
     "state": {
      "_dom_classes": [],
      "_model_module": "@jupyter-widgets/controls",
      "_model_module_version": "1.5.0",
      "_model_name": "FloatProgressModel",
      "_view_count": null,
      "_view_module": "@jupyter-widgets/controls",
      "_view_module_version": "1.5.0",
      "_view_name": "ProgressView",
      "bar_style": "success",
      "description": "",
      "description_tooltip": null,
      "layout": "IPY_MODEL_94bce5ce7ce244a4a21623e1c2873710",
      "max": 4915,
      "min": 0,
      "orientation": "horizontal",
      "style": "IPY_MODEL_84e1c36fc51648789289e43596f2a1a8",
      "value": 4915
     }
    },
    "a85777766b2f4cf7989aad348d4b7661": {
     "model_module": "@jupyter-widgets/controls",
     "model_module_version": "1.5.0",
     "model_name": "ProgressStyleModel",
     "state": {
      "_model_module": "@jupyter-widgets/controls",
      "_model_module_version": "1.5.0",
      "_model_name": "ProgressStyleModel",
      "_view_count": null,
      "_view_module": "@jupyter-widgets/base",
      "_view_module_version": "1.2.0",
      "_view_name": "StyleView",
      "bar_color": null,
      "description_width": ""
     }
    },
    "a8ffe8e8245c4f04b99fd6cbdb2df8a8": {
     "model_module": "@jupyter-widgets/base",
     "model_module_version": "1.2.0",
     "model_name": "LayoutModel",
     "state": {
      "_model_module": "@jupyter-widgets/base",
      "_model_module_version": "1.2.0",
      "_model_name": "LayoutModel",
      "_view_count": null,
      "_view_module": "@jupyter-widgets/base",
      "_view_module_version": "1.2.0",
      "_view_name": "LayoutView",
      "align_content": null,
      "align_items": null,
      "align_self": null,
      "border": null,
      "bottom": null,
      "display": null,
      "flex": null,
      "flex_flow": null,
      "grid_area": null,
      "grid_auto_columns": null,
      "grid_auto_flow": null,
      "grid_auto_rows": null,
      "grid_column": null,
      "grid_gap": null,
      "grid_row": null,
      "grid_template_areas": null,
      "grid_template_columns": null,
      "grid_template_rows": null,
      "height": null,
      "justify_content": null,
      "justify_items": null,
      "left": null,
      "margin": null,
      "max_height": null,
      "max_width": null,
      "min_height": null,
      "min_width": null,
      "object_fit": null,
      "object_position": null,
      "order": null,
      "overflow": null,
      "overflow_x": null,
      "overflow_y": null,
      "padding": null,
      "right": null,
      "top": null,
      "visibility": null,
      "width": null
     }
    },
    "ac5da468e05841bda48f4fd7037d3c4a": {
     "model_module": "@jupyter-widgets/base",
     "model_module_version": "1.2.0",
     "model_name": "LayoutModel",
     "state": {
      "_model_module": "@jupyter-widgets/base",
      "_model_module_version": "1.2.0",
      "_model_name": "LayoutModel",
      "_view_count": null,
      "_view_module": "@jupyter-widgets/base",
      "_view_module_version": "1.2.0",
      "_view_name": "LayoutView",
      "align_content": null,
      "align_items": null,
      "align_self": null,
      "border": null,
      "bottom": null,
      "display": null,
      "flex": null,
      "flex_flow": null,
      "grid_area": null,
      "grid_auto_columns": null,
      "grid_auto_flow": null,
      "grid_auto_rows": null,
      "grid_column": null,
      "grid_gap": null,
      "grid_row": null,
      "grid_template_areas": null,
      "grid_template_columns": null,
      "grid_template_rows": null,
      "height": null,
      "justify_content": null,
      "justify_items": null,
      "left": null,
      "margin": null,
      "max_height": null,
      "max_width": null,
      "min_height": null,
      "min_width": null,
      "object_fit": null,
      "object_position": null,
      "order": null,
      "overflow": null,
      "overflow_x": null,
      "overflow_y": null,
      "padding": null,
      "right": null,
      "top": null,
      "visibility": null,
      "width": null
     }
    },
    "acd3b3181592464c93190b12bc6c2328": {
     "model_module": "@jupyter-widgets/base",
     "model_module_version": "1.2.0",
     "model_name": "LayoutModel",
     "state": {
      "_model_module": "@jupyter-widgets/base",
      "_model_module_version": "1.2.0",
      "_model_name": "LayoutModel",
      "_view_count": null,
      "_view_module": "@jupyter-widgets/base",
      "_view_module_version": "1.2.0",
      "_view_name": "LayoutView",
      "align_content": null,
      "align_items": null,
      "align_self": null,
      "border": null,
      "bottom": null,
      "display": null,
      "flex": null,
      "flex_flow": null,
      "grid_area": null,
      "grid_auto_columns": null,
      "grid_auto_flow": null,
      "grid_auto_rows": null,
      "grid_column": null,
      "grid_gap": null,
      "grid_row": null,
      "grid_template_areas": null,
      "grid_template_columns": null,
      "grid_template_rows": null,
      "height": null,
      "justify_content": null,
      "justify_items": null,
      "left": null,
      "margin": null,
      "max_height": null,
      "max_width": null,
      "min_height": null,
      "min_width": null,
      "object_fit": null,
      "object_position": null,
      "order": null,
      "overflow": null,
      "overflow_x": null,
      "overflow_y": null,
      "padding": null,
      "right": null,
      "top": null,
      "visibility": null,
      "width": null
     }
    },
    "ada23fc2aa864232a60dad6f6e1d8c9d": {
     "model_module": "@jupyter-widgets/base",
     "model_module_version": "1.2.0",
     "model_name": "LayoutModel",
     "state": {
      "_model_module": "@jupyter-widgets/base",
      "_model_module_version": "1.2.0",
      "_model_name": "LayoutModel",
      "_view_count": null,
      "_view_module": "@jupyter-widgets/base",
      "_view_module_version": "1.2.0",
      "_view_name": "LayoutView",
      "align_content": null,
      "align_items": null,
      "align_self": null,
      "border": null,
      "bottom": null,
      "display": null,
      "flex": null,
      "flex_flow": null,
      "grid_area": null,
      "grid_auto_columns": null,
      "grid_auto_flow": null,
      "grid_auto_rows": null,
      "grid_column": null,
      "grid_gap": null,
      "grid_row": null,
      "grid_template_areas": null,
      "grid_template_columns": null,
      "grid_template_rows": null,
      "height": null,
      "justify_content": null,
      "justify_items": null,
      "left": null,
      "margin": null,
      "max_height": null,
      "max_width": null,
      "min_height": null,
      "min_width": null,
      "object_fit": null,
      "object_position": null,
      "order": null,
      "overflow": null,
      "overflow_x": null,
      "overflow_y": null,
      "padding": null,
      "right": null,
      "top": null,
      "visibility": null,
      "width": null
     }
    },
    "b1f426e08c724b0ba287a06a9516cfe1": {
     "model_module": "@jupyter-widgets/base",
     "model_module_version": "1.2.0",
     "model_name": "LayoutModel",
     "state": {
      "_model_module": "@jupyter-widgets/base",
      "_model_module_version": "1.2.0",
      "_model_name": "LayoutModel",
      "_view_count": null,
      "_view_module": "@jupyter-widgets/base",
      "_view_module_version": "1.2.0",
      "_view_name": "LayoutView",
      "align_content": null,
      "align_items": null,
      "align_self": null,
      "border": null,
      "bottom": null,
      "display": null,
      "flex": null,
      "flex_flow": null,
      "grid_area": null,
      "grid_auto_columns": null,
      "grid_auto_flow": null,
      "grid_auto_rows": null,
      "grid_column": null,
      "grid_gap": null,
      "grid_row": null,
      "grid_template_areas": null,
      "grid_template_columns": null,
      "grid_template_rows": null,
      "height": null,
      "justify_content": null,
      "justify_items": null,
      "left": null,
      "margin": null,
      "max_height": null,
      "max_width": null,
      "min_height": null,
      "min_width": null,
      "object_fit": null,
      "object_position": null,
      "order": null,
      "overflow": null,
      "overflow_x": null,
      "overflow_y": null,
      "padding": null,
      "right": null,
      "top": null,
      "visibility": null,
      "width": null
     }
    },
    "b596e9fa1fdf45a0af365d84d923b983": {
     "model_module": "@jupyter-widgets/controls",
     "model_module_version": "1.5.0",
     "model_name": "HTMLModel",
     "state": {
      "_dom_classes": [],
      "_model_module": "@jupyter-widgets/controls",
      "_model_module_version": "1.5.0",
      "_model_name": "HTMLModel",
      "_view_count": null,
      "_view_module": "@jupyter-widgets/controls",
      "_view_module_version": "1.5.0",
      "_view_name": "HTMLView",
      "description": "",
      "description_tooltip": null,
      "layout": "IPY_MODEL_a8ffe8e8245c4f04b99fd6cbdb2df8a8",
      "placeholder": "​",
      "style": "IPY_MODEL_4d4d38ac09e04631af15a77b9673a312",
      "value": "100%"
     }
    },
    "ba144ada09d94feeb761a422dc024947": {
     "model_module": "@jupyter-widgets/base",
     "model_module_version": "1.2.0",
     "model_name": "LayoutModel",
     "state": {
      "_model_module": "@jupyter-widgets/base",
      "_model_module_version": "1.2.0",
      "_model_name": "LayoutModel",
      "_view_count": null,
      "_view_module": "@jupyter-widgets/base",
      "_view_module_version": "1.2.0",
      "_view_name": "LayoutView",
      "align_content": null,
      "align_items": null,
      "align_self": null,
      "border": null,
      "bottom": null,
      "display": null,
      "flex": null,
      "flex_flow": null,
      "grid_area": null,
      "grid_auto_columns": null,
      "grid_auto_flow": null,
      "grid_auto_rows": null,
      "grid_column": null,
      "grid_gap": null,
      "grid_row": null,
      "grid_template_areas": null,
      "grid_template_columns": null,
      "grid_template_rows": null,
      "height": null,
      "justify_content": null,
      "justify_items": null,
      "left": null,
      "margin": null,
      "max_height": null,
      "max_width": null,
      "min_height": null,
      "min_width": null,
      "object_fit": null,
      "object_position": null,
      "order": null,
      "overflow": null,
      "overflow_x": null,
      "overflow_y": null,
      "padding": null,
      "right": null,
      "top": null,
      "visibility": null,
      "width": null
     }
    },
    "ba5ed8a0793b43f3b29db66d007d0254": {
     "model_module": "@jupyter-widgets/controls",
     "model_module_version": "1.5.0",
     "model_name": "DescriptionStyleModel",
     "state": {
      "_model_module": "@jupyter-widgets/controls",
      "_model_module_version": "1.5.0",
      "_model_name": "DescriptionStyleModel",
      "_view_count": null,
      "_view_module": "@jupyter-widgets/base",
      "_view_module_version": "1.2.0",
      "_view_name": "StyleView",
      "description_width": ""
     }
    },
    "bb91442429cd4b91a1c8fcb3655fc36f": {
     "model_module": "@jupyter-widgets/controls",
     "model_module_version": "1.5.0",
     "model_name": "DescriptionStyleModel",
     "state": {
      "_model_module": "@jupyter-widgets/controls",
      "_model_module_version": "1.5.0",
      "_model_name": "DescriptionStyleModel",
      "_view_count": null,
      "_view_module": "@jupyter-widgets/base",
      "_view_module_version": "1.2.0",
      "_view_name": "StyleView",
      "description_width": ""
     }
    },
    "c20b84e61ce14bbf8751eedb09cb0d91": {
     "model_module": "@jupyter-widgets/controls",
     "model_module_version": "1.5.0",
     "model_name": "HBoxModel",
     "state": {
      "_dom_classes": [],
      "_model_module": "@jupyter-widgets/controls",
      "_model_module_version": "1.5.0",
      "_model_name": "HBoxModel",
      "_view_count": null,
      "_view_module": "@jupyter-widgets/controls",
      "_view_module_version": "1.5.0",
      "_view_name": "HBoxView",
      "box_style": "",
      "children": [
       "IPY_MODEL_8301aaee6312421cbb4c9f16101aaf1b",
       "IPY_MODEL_a60be5b849ae42ce83686e1da2487edc",
       "IPY_MODEL_93bd3415b6184e859ef63116fd7eeeb4"
      ],
      "layout": "IPY_MODEL_ee7f8725d1574b54918f2b310d3f9709"
     }
    },
    "c577e42982244598913f0be61e6deeaa": {
     "model_module": "@jupyter-widgets/controls",
     "model_module_version": "1.5.0",
     "model_name": "ProgressStyleModel",
     "state": {
      "_model_module": "@jupyter-widgets/controls",
      "_model_module_version": "1.5.0",
      "_model_name": "ProgressStyleModel",
      "_view_count": null,
      "_view_module": "@jupyter-widgets/base",
      "_view_module_version": "1.2.0",
      "_view_name": "StyleView",
      "bar_color": null,
      "description_width": ""
     }
    },
    "c5915de7b7864258a21e4af520f4a6c4": {
     "model_module": "@jupyter-widgets/controls",
     "model_module_version": "1.5.0",
     "model_name": "DescriptionStyleModel",
     "state": {
      "_model_module": "@jupyter-widgets/controls",
      "_model_module_version": "1.5.0",
      "_model_name": "DescriptionStyleModel",
      "_view_count": null,
      "_view_module": "@jupyter-widgets/base",
      "_view_module_version": "1.2.0",
      "_view_name": "StyleView",
      "description_width": ""
     }
    },
    "c5f191fda2204d13a30f97fed2f4a886": {
     "model_module": "@jupyter-widgets/controls",
     "model_module_version": "1.5.0",
     "model_name": "DescriptionStyleModel",
     "state": {
      "_model_module": "@jupyter-widgets/controls",
      "_model_module_version": "1.5.0",
      "_model_name": "DescriptionStyleModel",
      "_view_count": null,
      "_view_module": "@jupyter-widgets/base",
      "_view_module_version": "1.2.0",
      "_view_name": "StyleView",
      "description_width": ""
     }
    },
    "cab68d85c9ea49ad84c7847ebbbc2913": {
     "model_module": "@jupyter-widgets/base",
     "model_module_version": "1.2.0",
     "model_name": "LayoutModel",
     "state": {
      "_model_module": "@jupyter-widgets/base",
      "_model_module_version": "1.2.0",
      "_model_name": "LayoutModel",
      "_view_count": null,
      "_view_module": "@jupyter-widgets/base",
      "_view_module_version": "1.2.0",
      "_view_name": "LayoutView",
      "align_content": null,
      "align_items": null,
      "align_self": null,
      "border": null,
      "bottom": null,
      "display": null,
      "flex": null,
      "flex_flow": null,
      "grid_area": null,
      "grid_auto_columns": null,
      "grid_auto_flow": null,
      "grid_auto_rows": null,
      "grid_column": null,
      "grid_gap": null,
      "grid_row": null,
      "grid_template_areas": null,
      "grid_template_columns": null,
      "grid_template_rows": null,
      "height": null,
      "justify_content": null,
      "justify_items": null,
      "left": null,
      "margin": null,
      "max_height": null,
      "max_width": null,
      "min_height": null,
      "min_width": null,
      "object_fit": null,
      "object_position": null,
      "order": null,
      "overflow": null,
      "overflow_x": null,
      "overflow_y": null,
      "padding": null,
      "right": null,
      "top": null,
      "visibility": null,
      "width": null
     }
    },
    "d548b2c5bc284d36b5c2268b3418f2ac": {
     "model_module": "@jupyter-widgets/controls",
     "model_module_version": "1.5.0",
     "model_name": "HTMLModel",
     "state": {
      "_dom_classes": [],
      "_model_module": "@jupyter-widgets/controls",
      "_model_module_version": "1.5.0",
      "_model_name": "HTMLModel",
      "_view_count": null,
      "_view_module": "@jupyter-widgets/controls",
      "_view_module_version": "1.5.0",
      "_view_name": "HTMLView",
      "description": "",
      "description_tooltip": null,
      "layout": "IPY_MODEL_56fc8822b79b46af92849e712fae5410",
      "placeholder": "​",
      "style": "IPY_MODEL_ba5ed8a0793b43f3b29db66d007d0254",
      "value": "100%"
     }
    },
    "d749c42891f6489f8e5c01b3eb47d724": {
     "model_module": "@jupyter-widgets/controls",
     "model_module_version": "1.5.0",
     "model_name": "HTMLModel",
     "state": {
      "_dom_classes": [],
      "_model_module": "@jupyter-widgets/controls",
      "_model_module_version": "1.5.0",
      "_model_name": "HTMLModel",
      "_view_count": null,
      "_view_module": "@jupyter-widgets/controls",
      "_view_module_version": "1.5.0",
      "_view_name": "HTMLView",
      "description": "",
      "description_tooltip": null,
      "layout": "IPY_MODEL_0c7ab45aab0f4d8dbdf78425333a3536",
      "placeholder": "​",
      "style": "IPY_MODEL_c5915de7b7864258a21e4af520f4a6c4",
      "value": " 4915/4915 [00:07&lt;00:00, 1082.99it/s]"
     }
    },
    "d81bd2878b654fa5ae6514108627b4ee": {
     "model_module": "@jupyter-widgets/controls",
     "model_module_version": "1.5.0",
     "model_name": "HTMLModel",
     "state": {
      "_dom_classes": [],
      "_model_module": "@jupyter-widgets/controls",
      "_model_module_version": "1.5.0",
      "_model_name": "HTMLModel",
      "_view_count": null,
      "_view_module": "@jupyter-widgets/controls",
      "_view_module_version": "1.5.0",
      "_view_name": "HTMLView",
      "description": "",
      "description_tooltip": null,
      "layout": "IPY_MODEL_cab68d85c9ea49ad84c7847ebbbc2913",
      "placeholder": "​",
      "style": "IPY_MODEL_745e8b4b6dc540808948a15b76c4f11d",
      "value": " 4915/4915 [28:29&lt;00:00,  2.58it/s]"
     }
    },
    "d81de3fa96c44a6ea9b7e34d30edeebc": {
     "model_module": "@jupyter-widgets/base",
     "model_module_version": "1.2.0",
     "model_name": "LayoutModel",
     "state": {
      "_model_module": "@jupyter-widgets/base",
      "_model_module_version": "1.2.0",
      "_model_name": "LayoutModel",
      "_view_count": null,
      "_view_module": "@jupyter-widgets/base",
      "_view_module_version": "1.2.0",
      "_view_name": "LayoutView",
      "align_content": null,
      "align_items": null,
      "align_self": null,
      "border": null,
      "bottom": null,
      "display": null,
      "flex": null,
      "flex_flow": null,
      "grid_area": null,
      "grid_auto_columns": null,
      "grid_auto_flow": null,
      "grid_auto_rows": null,
      "grid_column": null,
      "grid_gap": null,
      "grid_row": null,
      "grid_template_areas": null,
      "grid_template_columns": null,
      "grid_template_rows": null,
      "height": null,
      "justify_content": null,
      "justify_items": null,
      "left": null,
      "margin": null,
      "max_height": null,
      "max_width": null,
      "min_height": null,
      "min_width": null,
      "object_fit": null,
      "object_position": null,
      "order": null,
      "overflow": null,
      "overflow_x": null,
      "overflow_y": null,
      "padding": null,
      "right": null,
      "top": null,
      "visibility": null,
      "width": null
     }
    },
    "e1ca739bd56e4ab4bf6422165920f8b6": {
     "model_module": "@jupyter-widgets/base",
     "model_module_version": "1.2.0",
     "model_name": "LayoutModel",
     "state": {
      "_model_module": "@jupyter-widgets/base",
      "_model_module_version": "1.2.0",
      "_model_name": "LayoutModel",
      "_view_count": null,
      "_view_module": "@jupyter-widgets/base",
      "_view_module_version": "1.2.0",
      "_view_name": "LayoutView",
      "align_content": null,
      "align_items": null,
      "align_self": null,
      "border": null,
      "bottom": null,
      "display": null,
      "flex": null,
      "flex_flow": null,
      "grid_area": null,
      "grid_auto_columns": null,
      "grid_auto_flow": null,
      "grid_auto_rows": null,
      "grid_column": null,
      "grid_gap": null,
      "grid_row": null,
      "grid_template_areas": null,
      "grid_template_columns": null,
      "grid_template_rows": null,
      "height": null,
      "justify_content": null,
      "justify_items": null,
      "left": null,
      "margin": null,
      "max_height": null,
      "max_width": null,
      "min_height": null,
      "min_width": null,
      "object_fit": null,
      "object_position": null,
      "order": null,
      "overflow": null,
      "overflow_x": null,
      "overflow_y": null,
      "padding": null,
      "right": null,
      "top": null,
      "visibility": null,
      "width": null
     }
    },
    "ead4f19181aa4917a583922a792c1187": {
     "model_module": "@jupyter-widgets/controls",
     "model_module_version": "1.5.0",
     "model_name": "DescriptionStyleModel",
     "state": {
      "_model_module": "@jupyter-widgets/controls",
      "_model_module_version": "1.5.0",
      "_model_name": "DescriptionStyleModel",
      "_view_count": null,
      "_view_module": "@jupyter-widgets/base",
      "_view_module_version": "1.2.0",
      "_view_name": "StyleView",
      "description_width": ""
     }
    },
    "eae39d97ab0e43ea83fd4d7755f3dd04": {
     "model_module": "@jupyter-widgets/base",
     "model_module_version": "1.2.0",
     "model_name": "LayoutModel",
     "state": {
      "_model_module": "@jupyter-widgets/base",
      "_model_module_version": "1.2.0",
      "_model_name": "LayoutModel",
      "_view_count": null,
      "_view_module": "@jupyter-widgets/base",
      "_view_module_version": "1.2.0",
      "_view_name": "LayoutView",
      "align_content": null,
      "align_items": null,
      "align_self": null,
      "border": null,
      "bottom": null,
      "display": null,
      "flex": null,
      "flex_flow": null,
      "grid_area": null,
      "grid_auto_columns": null,
      "grid_auto_flow": null,
      "grid_auto_rows": null,
      "grid_column": null,
      "grid_gap": null,
      "grid_row": null,
      "grid_template_areas": null,
      "grid_template_columns": null,
      "grid_template_rows": null,
      "height": null,
      "justify_content": null,
      "justify_items": null,
      "left": null,
      "margin": null,
      "max_height": null,
      "max_width": null,
      "min_height": null,
      "min_width": null,
      "object_fit": null,
      "object_position": null,
      "order": null,
      "overflow": null,
      "overflow_x": null,
      "overflow_y": null,
      "padding": null,
      "right": null,
      "top": null,
      "visibility": null,
      "width": null
     }
    },
    "ee7f8725d1574b54918f2b310d3f9709": {
     "model_module": "@jupyter-widgets/base",
     "model_module_version": "1.2.0",
     "model_name": "LayoutModel",
     "state": {
      "_model_module": "@jupyter-widgets/base",
      "_model_module_version": "1.2.0",
      "_model_name": "LayoutModel",
      "_view_count": null,
      "_view_module": "@jupyter-widgets/base",
      "_view_module_version": "1.2.0",
      "_view_name": "LayoutView",
      "align_content": null,
      "align_items": null,
      "align_self": null,
      "border": null,
      "bottom": null,
      "display": null,
      "flex": null,
      "flex_flow": null,
      "grid_area": null,
      "grid_auto_columns": null,
      "grid_auto_flow": null,
      "grid_auto_rows": null,
      "grid_column": null,
      "grid_gap": null,
      "grid_row": null,
      "grid_template_areas": null,
      "grid_template_columns": null,
      "grid_template_rows": null,
      "height": null,
      "justify_content": null,
      "justify_items": null,
      "left": null,
      "margin": null,
      "max_height": null,
      "max_width": null,
      "min_height": null,
      "min_width": null,
      "object_fit": null,
      "object_position": null,
      "order": null,
      "overflow": null,
      "overflow_x": null,
      "overflow_y": null,
      "padding": null,
      "right": null,
      "top": null,
      "visibility": null,
      "width": null
     }
    },
    "f3d54b8722e147bebefc2a3f24d6a1ed": {
     "model_module": "@jupyter-widgets/base",
     "model_module_version": "1.2.0",
     "model_name": "LayoutModel",
     "state": {
      "_model_module": "@jupyter-widgets/base",
      "_model_module_version": "1.2.0",
      "_model_name": "LayoutModel",
      "_view_count": null,
      "_view_module": "@jupyter-widgets/base",
      "_view_module_version": "1.2.0",
      "_view_name": "LayoutView",
      "align_content": null,
      "align_items": null,
      "align_self": null,
      "border": null,
      "bottom": null,
      "display": null,
      "flex": null,
      "flex_flow": null,
      "grid_area": null,
      "grid_auto_columns": null,
      "grid_auto_flow": null,
      "grid_auto_rows": null,
      "grid_column": null,
      "grid_gap": null,
      "grid_row": null,
      "grid_template_areas": null,
      "grid_template_columns": null,
      "grid_template_rows": null,
      "height": null,
      "justify_content": null,
      "justify_items": null,
      "left": null,
      "margin": null,
      "max_height": null,
      "max_width": null,
      "min_height": null,
      "min_width": null,
      "object_fit": null,
      "object_position": null,
      "order": null,
      "overflow": null,
      "overflow_x": null,
      "overflow_y": null,
      "padding": null,
      "right": null,
      "top": null,
      "visibility": null,
      "width": null
     }
    },
    "f43986d814d244b29afb3c07427e3180": {
     "model_module": "@jupyter-widgets/controls",
     "model_module_version": "1.5.0",
     "model_name": "DescriptionStyleModel",
     "state": {
      "_model_module": "@jupyter-widgets/controls",
      "_model_module_version": "1.5.0",
      "_model_name": "DescriptionStyleModel",
      "_view_count": null,
      "_view_module": "@jupyter-widgets/base",
      "_view_module_version": "1.2.0",
      "_view_name": "StyleView",
      "description_width": ""
     }
    },
    "f88ebc4649cd438381aa9fc2317b8f24": {
     "model_module": "@jupyter-widgets/base",
     "model_module_version": "1.2.0",
     "model_name": "LayoutModel",
     "state": {
      "_model_module": "@jupyter-widgets/base",
      "_model_module_version": "1.2.0",
      "_model_name": "LayoutModel",
      "_view_count": null,
      "_view_module": "@jupyter-widgets/base",
      "_view_module_version": "1.2.0",
      "_view_name": "LayoutView",
      "align_content": null,
      "align_items": null,
      "align_self": null,
      "border": null,
      "bottom": null,
      "display": null,
      "flex": null,
      "flex_flow": null,
      "grid_area": null,
      "grid_auto_columns": null,
      "grid_auto_flow": null,
      "grid_auto_rows": null,
      "grid_column": null,
      "grid_gap": null,
      "grid_row": null,
      "grid_template_areas": null,
      "grid_template_columns": null,
      "grid_template_rows": null,
      "height": null,
      "justify_content": null,
      "justify_items": null,
      "left": null,
      "margin": null,
      "max_height": null,
      "max_width": null,
      "min_height": null,
      "min_width": null,
      "object_fit": null,
      "object_position": null,
      "order": null,
      "overflow": null,
      "overflow_x": null,
      "overflow_y": null,
      "padding": null,
      "right": null,
      "top": null,
      "visibility": null,
      "width": null
     }
    },
    "f91cbb5b40f54a4eaaa0b5cfe2f02fef": {
     "model_module": "@jupyter-widgets/base",
     "model_module_version": "1.2.0",
     "model_name": "LayoutModel",
     "state": {
      "_model_module": "@jupyter-widgets/base",
      "_model_module_version": "1.2.0",
      "_model_name": "LayoutModel",
      "_view_count": null,
      "_view_module": "@jupyter-widgets/base",
      "_view_module_version": "1.2.0",
      "_view_name": "LayoutView",
      "align_content": null,
      "align_items": null,
      "align_self": null,
      "border": null,
      "bottom": null,
      "display": null,
      "flex": null,
      "flex_flow": null,
      "grid_area": null,
      "grid_auto_columns": null,
      "grid_auto_flow": null,
      "grid_auto_rows": null,
      "grid_column": null,
      "grid_gap": null,
      "grid_row": null,
      "grid_template_areas": null,
      "grid_template_columns": null,
      "grid_template_rows": null,
      "height": null,
      "justify_content": null,
      "justify_items": null,
      "left": null,
      "margin": null,
      "max_height": null,
      "max_width": null,
      "min_height": null,
      "min_width": null,
      "object_fit": null,
      "object_position": null,
      "order": null,
      "overflow": null,
      "overflow_x": null,
      "overflow_y": null,
      "padding": null,
      "right": null,
      "top": null,
      "visibility": null,
      "width": null
     }
    }
   }
  }
 },
 "nbformat": 4,
 "nbformat_minor": 4
}
